{
 "cells": [
  {
   "cell_type": "markdown",
   "metadata": {},
   "source": [
    "#### syntax\n",
    "\n",
    "--->> The structure for writing a program\n",
    "\n",
    "### program\n",
    "\n",
    "--->> Set of instructions to do any one specific task\n",
    "\n",
    "### Instructions\n",
    "\n",
    "--->> A line of code with in the program\n",
    "\n",
    "---> There are 2 types of instructions \n",
    "\n",
    "    1. Comments \n",
    "    \n",
    "    2. Statements"
   ]
  },
  {
   "cell_type": "code",
   "execution_count": 1,
   "metadata": {},
   "outputs": [
    {
     "name": "stdout",
     "output_type": "stream",
     "text": [
      "hello\n",
      "hai\n",
      "bye\n"
     ]
    }
   ],
   "source": [
    "# single line comment \n",
    "'''\n",
    "this is \n",
    "multiline \n",
    "comment\n",
    "'''\n",
    "print \"hello\"# statement\n",
    "print \"hai\" # statement\n",
    "print \"bye\"# statement"
   ]
  },
  {
   "cell_type": "markdown",
   "metadata": {},
   "source": [
    "#### keywords \n",
    "\n",
    "-->> which are pre-defined words \n",
    "\n",
    "-->> each and every keyword which having its own specific task\n",
    "\n",
    "--->> all keywords are available inside keyword lib , we access by import keyword"
   ]
  },
  {
   "cell_type": "code",
   "execution_count": 2,
   "metadata": {},
   "outputs": [
    {
     "name": "stdout",
     "output_type": "stream",
     "text": [
      "['and', 'as', 'assert', 'break', 'class', 'continue', 'def', 'del', 'elif', 'else', 'except', 'exec', 'finally', 'for', 'from', 'global', 'if', 'import', 'in', 'is', 'lambda', 'not', 'or', 'pass', 'print', 'raise', 'return', 'try', 'while', 'with', 'yield']\n"
     ]
    }
   ],
   "source": [
    "import keyword\n",
    "print keyword.kwlist"
   ]
  },
  {
   "cell_type": "code",
   "execution_count": 3,
   "metadata": {},
   "outputs": [
    {
     "name": "stdout",
     "output_type": "stream",
     "text": [
      "31\n"
     ]
    }
   ],
   "source": [
    "import keyword\n",
    "print len(keyword.kwlist)"
   ]
  },
  {
   "cell_type": "markdown",
   "metadata": {},
   "source": [
    "#### Identifiers\n",
    "\n",
    "--->> user defined words\n",
    "\n",
    "--->> To give the name entities for variable , classes , functions \n",
    "\n",
    "#### Rules\n",
    "\n",
    "-->> we can use all alphabets   a -z / A- Z\n",
    "\n",
    "-->> we can use underscore   _\n",
    "\n",
    "-->> we can use digits      0 - 9\n",
    "\n",
    "-->> don't start with digit \n",
    "\n",
    "-->> don't use keywords \n",
    "\n",
    "-->> don't use special characters  !@#$%^&*(){}[]\";':.,?//*-+"
   ]
  },
  {
   "cell_type": "code",
   "execution_count": 4,
   "metadata": {},
   "outputs": [
    {
     "name": "stdout",
     "output_type": "stream",
     "text": [
      "123\n"
     ]
    }
   ],
   "source": [
    "# variable \n",
    "'''\n",
    "-->> to store the data in memory loc\n",
    "-->> we can directly assign the data to variable\n",
    "'''\n",
    "var = 123\n",
    "print var"
   ]
  },
  {
   "cell_type": "code",
   "execution_count": 5,
   "metadata": {},
   "outputs": [
    {
     "name": "stdout",
     "output_type": "stream",
     "text": [
      "34\n"
     ]
    }
   ],
   "source": [
    "Va_2 = 34\n",
    "print Va_2"
   ]
  },
  {
   "cell_type": "code",
   "execution_count": 6,
   "metadata": {},
   "outputs": [
    {
     "ename": "SyntaxError",
     "evalue": "invalid syntax (<ipython-input-6-efd757c4e96a>, line 1)",
     "output_type": "error",
     "traceback": [
      "\u001b[1;36m  File \u001b[1;32m\"<ipython-input-6-efd757c4e96a>\"\u001b[1;36m, line \u001b[1;32m1\u001b[0m\n\u001b[1;33m    2var = 123\u001b[0m\n\u001b[1;37m       ^\u001b[0m\n\u001b[1;31mSyntaxError\u001b[0m\u001b[1;31m:\u001b[0m invalid syntax\n"
     ]
    }
   ],
   "source": [
    "2var = 123"
   ]
  },
  {
   "cell_type": "code",
   "execution_count": 7,
   "metadata": {},
   "outputs": [
    {
     "ename": "SyntaxError",
     "evalue": "invalid syntax (<ipython-input-7-b4644a39e914>, line 1)",
     "output_type": "error",
     "traceback": [
      "\u001b[1;36m  File \u001b[1;32m\"<ipython-input-7-b4644a39e914>\"\u001b[1;36m, line \u001b[1;32m1\u001b[0m\n\u001b[1;33m    while  =123\u001b[0m\n\u001b[1;37m           ^\u001b[0m\n\u001b[1;31mSyntaxError\u001b[0m\u001b[1;31m:\u001b[0m invalid syntax\n"
     ]
    }
   ],
   "source": [
    "while  =123"
   ]
  },
  {
   "cell_type": "code",
   "execution_count": 9,
   "metadata": {},
   "outputs": [
    {
     "ename": "SyntaxError",
     "evalue": "invalid syntax (<ipython-input-9-9c2b0d191272>, line 1)",
     "output_type": "error",
     "traceback": [
      "\u001b[1;36m  File \u001b[1;32m\"<ipython-input-9-9c2b0d191272>\"\u001b[1;36m, line \u001b[1;32m1\u001b[0m\n\u001b[1;33m    a@e =123\u001b[0m\n\u001b[1;37m     ^\u001b[0m\n\u001b[1;31mSyntaxError\u001b[0m\u001b[1;31m:\u001b[0m invalid syntax\n"
     ]
    }
   ],
   "source": [
    "a@e =123"
   ]
  },
  {
   "cell_type": "markdown",
   "metadata": {},
   "source": [
    "### datatype\n",
    "\n",
    "-->> to specify the what type of data holded by variable\n",
    "\n",
    "-->> fundamental datatype ( single variable can hold single data )\n",
    "\n",
    "        1. int  ------>> decimal number\n",
    "        \n",
    "        2. float  ---->> decimal points\n",
    "        \n",
    "        3. bool    ---->> True / False\n",
    "        \n",
    "        4. complex  --->>  X + y j\n",
    "        \n",
    "        5. None     --->> None\n",
    "\n",
    "-->>sequencial datatype ( single variable can hold multiple data elements)\n",
    "\n",
    "    1. str --->> \"\"\n",
    "    \n",
    "    2. list --->>  []\n",
    "    \n",
    "    3. tuple -->>  ()\n",
    "    \n",
    "    4. set ----->> {}\n",
    "    \n",
    "    5. dict ---->> {}\n",
    "    "
   ]
  },
  {
   "cell_type": "code",
   "execution_count": 10,
   "metadata": {},
   "outputs": [
    {
     "name": "stdout",
     "output_type": "stream",
     "text": [
      "123\n",
      "<type 'int'>\n"
     ]
    }
   ],
   "source": [
    "# type() --->> to know the datatype\n",
    "\n",
    "var = 123\n",
    "print var\n",
    "print type(var)"
   ]
  },
  {
   "cell_type": "code",
   "execution_count": 11,
   "metadata": {},
   "outputs": [
    {
     "name": "stdout",
     "output_type": "stream",
     "text": [
      "12.903\n",
      "<type 'float'>\n"
     ]
    }
   ],
   "source": [
    "var = 12.903\n",
    "print var\n",
    "print type(var)"
   ]
  },
  {
   "cell_type": "code",
   "execution_count": 12,
   "metadata": {},
   "outputs": [
    {
     "name": "stdout",
     "output_type": "stream",
     "text": [
      "(1+3j)\n",
      "<type 'complex'>\n"
     ]
    }
   ],
   "source": [
    "var = 1 + 3j\n",
    "print var\n",
    "print type(var)"
   ]
  },
  {
   "cell_type": "code",
   "execution_count": 13,
   "metadata": {},
   "outputs": [
    {
     "name": "stdout",
     "output_type": "stream",
     "text": [
      "True\n",
      "<type 'bool'>\n",
      "False\n",
      "<type 'bool'>\n"
     ]
    }
   ],
   "source": [
    "var = True\n",
    "print var\n",
    "print type(var)\n",
    "var = False\n",
    "print var\n",
    "print type(var)"
   ]
  },
  {
   "cell_type": "code",
   "execution_count": 14,
   "metadata": {},
   "outputs": [
    {
     "name": "stdout",
     "output_type": "stream",
     "text": [
      "None\n",
      "<type 'NoneType'>\n"
     ]
    }
   ],
   "source": [
    "var = None\n",
    "print var\n",
    "print type(var)"
   ]
  },
  {
   "cell_type": "code",
   "execution_count": 15,
   "metadata": {},
   "outputs": [
    {
     "name": "stdout",
     "output_type": "stream",
     "text": [
      "fldkjkf\n",
      "<type 'str'>\n"
     ]
    }
   ],
   "source": [
    "var = \"fldkjkf\"\n",
    "print var\n",
    "print type(var)"
   ]
  },
  {
   "cell_type": "code",
   "execution_count": 16,
   "metadata": {},
   "outputs": [
    {
     "name": "stdout",
     "output_type": "stream",
     "text": [
      "[1, 4.2, (5+6j)]\n",
      "<type 'list'>\n"
     ]
    }
   ],
   "source": [
    "var = [1,4.2,5+6j]\n",
    "print var\n",
    "print type(var)"
   ]
  },
  {
   "cell_type": "code",
   "execution_count": 17,
   "metadata": {},
   "outputs": [
    {
     "name": "stdout",
     "output_type": "stream",
     "text": [
      "(1, 4.2, (5+6j))\n",
      "<type 'tuple'>\n"
     ]
    }
   ],
   "source": [
    "var = (1,4.2,5+6j)\n",
    "print var\n",
    "print type(var)"
   ]
  },
  {
   "cell_type": "code",
   "execution_count": 18,
   "metadata": {},
   "outputs": [
    {
     "name": "stdout",
     "output_type": "stream",
     "text": [
      "set([1, 4.2, (5+6j)])\n",
      "<type 'set'>\n"
     ]
    }
   ],
   "source": [
    "var = {1,4.2,5+6j}\n",
    "print var\n",
    "print type(var)"
   ]
  },
  {
   "cell_type": "code",
   "execution_count": 19,
   "metadata": {},
   "outputs": [
    {
     "name": "stdout",
     "output_type": "stream",
     "text": [
      "{1: 4.2, (5+6j): 'soc'}\n",
      "<type 'dict'>\n"
     ]
    }
   ],
   "source": [
    "var = {1 : 4.2, 5+6j : \"soc\"}\n",
    "print var\n",
    "print type(var)"
   ]
  },
  {
   "cell_type": "code",
   "execution_count": null,
   "metadata": {},
   "outputs": [],
   "source": []
  }
 ],
 "metadata": {
  "kernelspec": {
   "display_name": "Python 2",
   "language": "python",
   "name": "python2"
  },
  "language_info": {
   "codemirror_mode": {
    "name": "ipython",
    "version": 2
   },
   "file_extension": ".py",
   "mimetype": "text/x-python",
   "name": "python",
   "nbconvert_exporter": "python",
   "pygments_lexer": "ipython2",
   "version": "2.7.16"
  }
 },
 "nbformat": 4,
 "nbformat_minor": 2
}
