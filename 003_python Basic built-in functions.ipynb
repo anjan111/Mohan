{
 "cells": [
  {
   "cell_type": "markdown",
   "metadata": {},
   "source": [
    "### function\n",
    "\n",
    "--->> Set of instructions & statements to do any one specific task\n",
    "\n",
    "### 2 types \n",
    "\n",
    "1. User defined functions --->> will discuss later\n",
    "\n",
    "\n",
    "2. Pre- defined function\n",
    "\n",
    "    --->>which are already defined it \n",
    "    \n",
    "    --->> input functions \n",
    "    \n",
    "            to read the data from keyboard\n",
    "            \n",
    "            input()\n",
    "            \n",
    "            raw_input()\n",
    "    \n",
    "          \n",
    "    \n",
    "    --->> output functions\n",
    "    \n",
    "            print \"statement\"\n",
    "            \n",
    "            print (function)\n",
    "    \n",
    "    --->> type & id \n",
    "    \n",
    "            type()--->> to know the datatype\n",
    "            \n",
    "            id() ---->> to know the memory loc\n",
    "    \n",
    "   "
   ]
  },
  {
   "cell_type": "code",
   "execution_count": 1,
   "metadata": {},
   "outputs": [
    {
     "name": "stdout",
     "output_type": "stream",
     "text": [
      "enter int : 789\n",
      "789\n",
      "<type 'int'>\n",
      "memory loc :  789\n",
      "enter int : 789\n",
      "789\n",
      "<type 'str'>\n",
      "memory loc :  789\n"
     ]
    }
   ],
   "source": [
    "# read int data with input & raw_input and display the datetype,  , momeory\n",
    "\n",
    "var = input(\"enter int : \")\n",
    "print var# statement\n",
    "print(type(var))\n",
    "print\"memory loc : \",var\n",
    "var = raw_input(\"enter int : \")\n",
    "print var# statement\n",
    "print(type(var))\n",
    "print\"memory loc : \",var"
   ]
  },
  {
   "cell_type": "code",
   "execution_count": 2,
   "metadata": {},
   "outputs": [
    {
     "name": "stdout",
     "output_type": "stream",
     "text": [
      "enter float : 78.65\n",
      "78.65\n",
      "<type 'float'>\n",
      "memory loc :  78.65\n",
      "enter float : 78.65\n",
      "78.65\n",
      "<type 'str'>\n",
      "memory loc :  78.65\n"
     ]
    }
   ],
   "source": [
    "# read float data with input & raw_input and display the datetype,  , momeory\n",
    "\n",
    "var = input(\"enter float : \")\n",
    "print var# statement\n",
    "print(type(var))\n",
    "print\"memory loc : \",var\n",
    "var = raw_input(\"enter float : \")\n",
    "print var# statement\n",
    "print(type(var))\n",
    "print\"memory loc : \",var"
   ]
  },
  {
   "cell_type": "code",
   "execution_count": 3,
   "metadata": {},
   "outputs": [
    {
     "name": "stdout",
     "output_type": "stream",
     "text": [
      "enter complex : 7+3j\n",
      "(7+3j)\n",
      "<type 'complex'>\n",
      "memory loc :  (7+3j)\n",
      "enter complex : 7+4j\n",
      "7+4j\n",
      "<type 'str'>\n",
      "memory loc :  7+4j\n"
     ]
    }
   ],
   "source": [
    "# read complex data with input & raw_input and display the datetype,  , momeory\n",
    "\n",
    "var = input(\"enter complex : \")\n",
    "print var# statement\n",
    "print(type(var))\n",
    "print\"memory loc : \",var\n",
    "var = raw_input(\"enter complex : \")\n",
    "print var# statement\n",
    "print(type(var))\n",
    "print\"memory loc : \",var"
   ]
  },
  {
   "cell_type": "code",
   "execution_count": null,
   "metadata": {},
   "outputs": [],
   "source": [
    "# read bool data with input & raw_input and display the datetype,  , momeory\n",
    "\n",
    "# read None data with input & raw_input and display the datetype,  , momeory\n",
    "\n",
    "# read str data with input & raw_input and display the datetype,  , momeory\n",
    "\n",
    "# read list data with input & raw_input and display the datetype,  , momeory\n",
    "\n",
    "# read tuple data with input & raw_input and display the datetype,  , momeory\n",
    "\n",
    "# read set data with input & raw_input and display the datetype,  , momeory\n",
    "\n",
    "# read dict data with input & raw_input and display the datetype,  , momeory\n",
    "\n",
    "9640 987 960"
   ]
  }
 ],
 "metadata": {
  "kernelspec": {
   "display_name": "Python 2",
   "language": "python",
   "name": "python2"
  },
  "language_info": {
   "codemirror_mode": {
    "name": "ipython",
    "version": 2
   },
   "file_extension": ".py",
   "mimetype": "text/x-python",
   "name": "python",
   "nbconvert_exporter": "python",
   "pygments_lexer": "ipython2",
   "version": "2.7.16"
  }
 },
 "nbformat": 4,
 "nbformat_minor": 2
}
