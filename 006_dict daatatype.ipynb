{
 "cells": [
  {
   "cell_type": "code",
   "execution_count": 1,
   "metadata": {},
   "outputs": [
    {
     "name": "stdout",
     "output_type": "stream",
     "text": [
      "<type 'dict'>\n",
      "85295992\n"
     ]
    }
   ],
   "source": [
    "# collection of pair of keys & values with in {}\n",
    "var = {12 : \"soc\" , 89 : \"56\"}\n",
    "print type(var)\n",
    "print id(var)"
   ]
  },
  {
   "cell_type": "code",
   "execution_count": 2,
   "metadata": {},
   "outputs": [
    {
     "name": "stdout",
     "output_type": "stream",
     "text": [
      "{89: '56', 12: 'soc', -23: '45'}\n",
      "<type 'dict'>\n",
      "85253112\n"
     ]
    }
   ],
   "source": [
    "# dict is unordered datatype\n",
    "var = {12 : \"soc\" , 89 : \"56\" , -23 :\"45\"}\n",
    "print var\n",
    "print type(var)\n",
    "print id(var)"
   ]
  },
  {
   "cell_type": "code",
   "execution_count": 3,
   "metadata": {},
   "outputs": [
    {
     "name": "stdout",
     "output_type": "stream",
     "text": [
      "{True: '45', (-2+4j): '45', 8.9: '56', 12: 'soc', None: 'd'}\n",
      "<type 'dict'>\n",
      "79244824\n"
     ]
    }
   ],
   "source": [
    "# dict keys having limited datatypes\n",
    "var = {12 : \"soc\" , 8.9 : \"56\" , -2 + 4j :\"45\" ,None : \"d\" ,True : \"45\"}\n",
    "print var\n",
    "print type(var)\n",
    "print id(var)"
   ]
  },
  {
   "cell_type": "code",
   "execution_count": 4,
   "metadata": {},
   "outputs": [
    {
     "name": "stdout",
     "output_type": "stream",
     "text": [
      "{'345': 'soc', (-2+4j): '45', True: '45', (1, 2, 4): '56', None: 'd'}\n",
      "<type 'dict'>\n",
      "85238104\n"
     ]
    }
   ],
   "source": [
    "# dict keys having limited datatypes\n",
    "var = {\"345\" : \"soc\" ,(1,2,4): \"56\" , -2 + 4j :\"45\" ,None : \"d\" ,True : \"45\"}\n",
    "print var\n",
    "print type(var)\n",
    "print id(var)"
   ]
  },
  {
   "cell_type": "code",
   "execution_count": 5,
   "metadata": {},
   "outputs": [
    {
     "ename": "TypeError",
     "evalue": "unhashable type: 'list'",
     "output_type": "error",
     "traceback": [
      "\u001b[1;31m---------------------------------------------------------------------------\u001b[0m",
      "\u001b[1;31mTypeError\u001b[0m                                 Traceback (most recent call last)",
      "\u001b[1;32m<ipython-input-5-c8992aa1930c>\u001b[0m in \u001b[0;36m<module>\u001b[1;34m()\u001b[0m\n\u001b[0;32m      1\u001b[0m \u001b[1;31m# dict keys having limited datatypes\u001b[0m\u001b[1;33m\u001b[0m\u001b[1;33m\u001b[0m\u001b[0m\n\u001b[1;32m----> 2\u001b[1;33m \u001b[0mvar\u001b[0m \u001b[1;33m=\u001b[0m \u001b[1;33m{\u001b[0m\u001b[1;33m[\u001b[0m\u001b[1;36m1\u001b[0m\u001b[1;33m,\u001b[0m\u001b[1;36m2\u001b[0m\u001b[1;33m,\u001b[0m\u001b[1;36m3\u001b[0m\u001b[1;33m]\u001b[0m \u001b[1;33m:\u001b[0m \u001b[1;34m\"soc\"\u001b[0m \u001b[1;33m,\u001b[0m\u001b[1;33m(\u001b[0m\u001b[1;36m1\u001b[0m\u001b[1;33m,\u001b[0m\u001b[1;36m2\u001b[0m\u001b[1;33m,\u001b[0m\u001b[1;36m4\u001b[0m\u001b[1;33m)\u001b[0m\u001b[1;33m:\u001b[0m \u001b[1;34m\"56\"\u001b[0m \u001b[1;33m,\u001b[0m \u001b[1;33m-\u001b[0m\u001b[1;36m2\u001b[0m \u001b[1;33m+\u001b[0m \u001b[1;36m4j\u001b[0m \u001b[1;33m:\u001b[0m\u001b[1;34m\"45\"\u001b[0m \u001b[1;33m,\u001b[0m\u001b[0mNone\u001b[0m \u001b[1;33m:\u001b[0m \u001b[1;34m\"d\"\u001b[0m \u001b[1;33m,\u001b[0m\u001b[0mTrue\u001b[0m \u001b[1;33m:\u001b[0m \u001b[1;34m\"45\"\u001b[0m\u001b[1;33m}\u001b[0m\u001b[1;33m\u001b[0m\u001b[0m\n\u001b[0m\u001b[0;32m      3\u001b[0m \u001b[1;32mprint\u001b[0m \u001b[0mvar\u001b[0m\u001b[1;33m\u001b[0m\u001b[0m\n\u001b[0;32m      4\u001b[0m \u001b[1;32mprint\u001b[0m \u001b[0mtype\u001b[0m\u001b[1;33m(\u001b[0m\u001b[0mvar\u001b[0m\u001b[1;33m)\u001b[0m\u001b[1;33m\u001b[0m\u001b[0m\n\u001b[0;32m      5\u001b[0m \u001b[1;32mprint\u001b[0m \u001b[0mid\u001b[0m\u001b[1;33m(\u001b[0m\u001b[0mvar\u001b[0m\u001b[1;33m)\u001b[0m\u001b[1;33m\u001b[0m\u001b[0m\n",
      "\u001b[1;31mTypeError\u001b[0m: unhashable type: 'list'"
     ]
    }
   ],
   "source": [
    "# dict keys having limited datatypes\n",
    "var = {[1,2,3] : \"soc\" ,(1,2,4): \"56\" , -2 + 4j :\"45\" ,None : \"d\" ,True : \"45\"}\n",
    "print var\n",
    "print type(var)\n",
    "print id(var)"
   ]
  },
  {
   "cell_type": "code",
   "execution_count": 6,
   "metadata": {},
   "outputs": [
    {
     "ename": "TypeError",
     "evalue": "unhashable type: 'set'",
     "output_type": "error",
     "traceback": [
      "\u001b[1;31m---------------------------------------------------------------------------\u001b[0m",
      "\u001b[1;31mTypeError\u001b[0m                                 Traceback (most recent call last)",
      "\u001b[1;32m<ipython-input-6-8c21c0a312ea>\u001b[0m in \u001b[0;36m<module>\u001b[1;34m()\u001b[0m\n\u001b[0;32m      1\u001b[0m \u001b[1;31m# dict keys having limited datatypes\u001b[0m\u001b[1;33m\u001b[0m\u001b[1;33m\u001b[0m\u001b[0m\n\u001b[1;32m----> 2\u001b[1;33m \u001b[0mvar\u001b[0m \u001b[1;33m=\u001b[0m \u001b[1;33m{\u001b[0m\u001b[1;33m{\u001b[0m\u001b[1;36m1\u001b[0m\u001b[1;33m,\u001b[0m\u001b[1;36m2\u001b[0m\u001b[1;33m,\u001b[0m\u001b[1;36m3\u001b[0m\u001b[1;33m}\u001b[0m \u001b[1;33m:\u001b[0m \u001b[1;34m\"soc\"\u001b[0m \u001b[1;33m,\u001b[0m\u001b[1;33m(\u001b[0m\u001b[1;36m1\u001b[0m\u001b[1;33m,\u001b[0m\u001b[1;36m2\u001b[0m\u001b[1;33m,\u001b[0m\u001b[1;36m4\u001b[0m\u001b[1;33m)\u001b[0m\u001b[1;33m:\u001b[0m \u001b[1;34m\"56\"\u001b[0m \u001b[1;33m,\u001b[0m \u001b[1;33m-\u001b[0m\u001b[1;36m2\u001b[0m \u001b[1;33m+\u001b[0m \u001b[1;36m4j\u001b[0m \u001b[1;33m:\u001b[0m\u001b[1;34m\"45\"\u001b[0m \u001b[1;33m,\u001b[0m\u001b[0mNone\u001b[0m \u001b[1;33m:\u001b[0m \u001b[1;34m\"d\"\u001b[0m \u001b[1;33m,\u001b[0m\u001b[0mTrue\u001b[0m \u001b[1;33m:\u001b[0m \u001b[1;34m\"45\"\u001b[0m\u001b[1;33m}\u001b[0m\u001b[1;33m\u001b[0m\u001b[0m\n\u001b[0m\u001b[0;32m      3\u001b[0m \u001b[1;32mprint\u001b[0m \u001b[0mvar\u001b[0m\u001b[1;33m\u001b[0m\u001b[0m\n\u001b[0;32m      4\u001b[0m \u001b[1;32mprint\u001b[0m \u001b[0mtype\u001b[0m\u001b[1;33m(\u001b[0m\u001b[0mvar\u001b[0m\u001b[1;33m)\u001b[0m\u001b[1;33m\u001b[0m\u001b[0m\n\u001b[0;32m      5\u001b[0m \u001b[1;32mprint\u001b[0m \u001b[0mid\u001b[0m\u001b[1;33m(\u001b[0m\u001b[0mvar\u001b[0m\u001b[1;33m)\u001b[0m\u001b[1;33m\u001b[0m\u001b[0m\n",
      "\u001b[1;31mTypeError\u001b[0m: unhashable type: 'set'"
     ]
    }
   ],
   "source": [
    "# dict keys having limited datatypes\n",
    "var = {{1,2,3} : \"soc\" ,(1,2,4): \"56\" , -2 + 4j :\"45\" ,None : \"d\" ,True : \"45\"}\n",
    "print var\n",
    "print type(var)\n",
    "print id(var)"
   ]
  },
  {
   "cell_type": "code",
   "execution_count": 7,
   "metadata": {},
   "outputs": [
    {
     "ename": "TypeError",
     "evalue": "unhashable type: 'dict'",
     "output_type": "error",
     "traceback": [
      "\u001b[1;31m---------------------------------------------------------------------------\u001b[0m",
      "\u001b[1;31mTypeError\u001b[0m                                 Traceback (most recent call last)",
      "\u001b[1;32m<ipython-input-7-7c1e27ae5332>\u001b[0m in \u001b[0;36m<module>\u001b[1;34m()\u001b[0m\n\u001b[0;32m      1\u001b[0m \u001b[1;31m# dict keys having limited datatypes\u001b[0m\u001b[1;33m\u001b[0m\u001b[1;33m\u001b[0m\u001b[0m\n\u001b[1;32m----> 2\u001b[1;33m \u001b[0mvar\u001b[0m \u001b[1;33m=\u001b[0m \u001b[1;33m{\u001b[0m\u001b[1;33m{\u001b[0m\u001b[1;36m1\u001b[0m\u001b[1;33m:\u001b[0m\u001b[1;36m3\u001b[0m\u001b[1;33m}\u001b[0m \u001b[1;33m:\u001b[0m \u001b[1;34m\"soc\"\u001b[0m \u001b[1;33m,\u001b[0m\u001b[1;33m(\u001b[0m\u001b[1;36m1\u001b[0m\u001b[1;33m,\u001b[0m\u001b[1;36m2\u001b[0m\u001b[1;33m,\u001b[0m\u001b[1;36m4\u001b[0m\u001b[1;33m)\u001b[0m\u001b[1;33m:\u001b[0m \u001b[1;34m\"56\"\u001b[0m \u001b[1;33m,\u001b[0m \u001b[1;33m-\u001b[0m\u001b[1;36m2\u001b[0m \u001b[1;33m+\u001b[0m \u001b[1;36m4j\u001b[0m \u001b[1;33m:\u001b[0m\u001b[1;34m\"45\"\u001b[0m \u001b[1;33m,\u001b[0m\u001b[0mNone\u001b[0m \u001b[1;33m:\u001b[0m \u001b[1;34m\"d\"\u001b[0m \u001b[1;33m,\u001b[0m\u001b[0mTrue\u001b[0m \u001b[1;33m:\u001b[0m \u001b[1;34m\"45\"\u001b[0m\u001b[1;33m}\u001b[0m\u001b[1;33m\u001b[0m\u001b[0m\n\u001b[0m\u001b[0;32m      3\u001b[0m \u001b[1;32mprint\u001b[0m \u001b[0mvar\u001b[0m\u001b[1;33m\u001b[0m\u001b[0m\n\u001b[0;32m      4\u001b[0m \u001b[1;32mprint\u001b[0m \u001b[0mtype\u001b[0m\u001b[1;33m(\u001b[0m\u001b[0mvar\u001b[0m\u001b[1;33m)\u001b[0m\u001b[1;33m\u001b[0m\u001b[0m\n\u001b[0;32m      5\u001b[0m \u001b[1;32mprint\u001b[0m \u001b[0mid\u001b[0m\u001b[1;33m(\u001b[0m\u001b[0mvar\u001b[0m\u001b[1;33m)\u001b[0m\u001b[1;33m\u001b[0m\u001b[0m\n",
      "\u001b[1;31mTypeError\u001b[0m: unhashable type: 'dict'"
     ]
    }
   ],
   "source": [
    "# dict keys having limited datatypes\n",
    "var = {{1:3} : \"soc\" ,(1,2,4): \"56\" , -2 + 4j :\"45\" ,None : \"d\" ,True : \"45\"}\n",
    "print var\n",
    "print type(var)\n",
    "print id(var)"
   ]
  },
  {
   "cell_type": "code",
   "execution_count": 8,
   "metadata": {},
   "outputs": [
    {
     "name": "stdout",
     "output_type": "stream",
     "text": [
      "{True: '45', (-2+4j): '45', '1,2,3': 'soc', (1, 2, 4): '56', None: 'd'}\n",
      "<type 'dict'>\n",
      "78722456\n"
     ]
    }
   ],
   "source": [
    "# dict is not supporting indexing for access the items\n",
    "#\n",
    "var = {\"1,2,3\" : \"soc\" ,(1,2,4): \"56\" , -2 + 4j :\"45\" ,None : \"d\" ,True : \"45\"}\n",
    "print var\n",
    "print type(var)\n",
    "print id(var)"
   ]
  },
  {
   "cell_type": "code",
   "execution_count": 9,
   "metadata": {},
   "outputs": [
    {
     "name": "stdout",
     "output_type": "stream",
     "text": [
      "{True: '45', (-2+4j): '45', '1,2,3': 'soc', (1, 2, 4): '56', None: 'd'}\n"
     ]
    },
    {
     "ename": "KeyError",
     "evalue": "0",
     "output_type": "error",
     "traceback": [
      "\u001b[1;31m---------------------------------------------------------------------------\u001b[0m",
      "\u001b[1;31mKeyError\u001b[0m                                  Traceback (most recent call last)",
      "\u001b[1;32m<ipython-input-9-d62f9c827009>\u001b[0m in \u001b[0;36m<module>\u001b[1;34m()\u001b[0m\n\u001b[0;32m      3\u001b[0m \u001b[0mvar\u001b[0m \u001b[1;33m=\u001b[0m \u001b[1;33m{\u001b[0m\u001b[1;34m\"1,2,3\"\u001b[0m \u001b[1;33m:\u001b[0m \u001b[1;34m\"soc\"\u001b[0m \u001b[1;33m,\u001b[0m\u001b[1;33m(\u001b[0m\u001b[1;36m1\u001b[0m\u001b[1;33m,\u001b[0m\u001b[1;36m2\u001b[0m\u001b[1;33m,\u001b[0m\u001b[1;36m4\u001b[0m\u001b[1;33m)\u001b[0m\u001b[1;33m:\u001b[0m \u001b[1;34m\"56\"\u001b[0m \u001b[1;33m,\u001b[0m \u001b[1;33m-\u001b[0m\u001b[1;36m2\u001b[0m \u001b[1;33m+\u001b[0m \u001b[1;36m4j\u001b[0m \u001b[1;33m:\u001b[0m\u001b[1;34m\"45\"\u001b[0m \u001b[1;33m,\u001b[0m\u001b[0mNone\u001b[0m \u001b[1;33m:\u001b[0m \u001b[1;34m\"d\"\u001b[0m \u001b[1;33m,\u001b[0m\u001b[0mTrue\u001b[0m \u001b[1;33m:\u001b[0m \u001b[1;34m\"45\"\u001b[0m\u001b[1;33m}\u001b[0m\u001b[1;33m\u001b[0m\u001b[0m\n\u001b[0;32m      4\u001b[0m \u001b[1;32mprint\u001b[0m \u001b[0mvar\u001b[0m\u001b[1;33m\u001b[0m\u001b[0m\n\u001b[1;32m----> 5\u001b[1;33m \u001b[1;32mprint\u001b[0m \u001b[0mvar\u001b[0m\u001b[1;33m[\u001b[0m\u001b[1;36m0\u001b[0m\u001b[1;33m]\u001b[0m\u001b[1;33m\u001b[0m\u001b[0m\n\u001b[0m\u001b[0;32m      6\u001b[0m \u001b[1;32mprint\u001b[0m \u001b[0mvar\u001b[0m\u001b[1;33m[\u001b[0m\u001b[1;36m1\u001b[0m\u001b[1;33m]\u001b[0m\u001b[1;33m\u001b[0m\u001b[0m\n",
      "\u001b[1;31mKeyError\u001b[0m: 0"
     ]
    }
   ],
   "source": [
    "# dict is not supporting indexing for access the items\n",
    "#\n",
    "var = {\"1,2,3\" : \"soc\" ,(1,2,4): \"56\" , -2 + 4j :\"45\" ,None : \"d\" ,True : \"45\"}\n",
    "print var\n",
    "print var[0]\n",
    "print var[1]"
   ]
  },
  {
   "cell_type": "code",
   "execution_count": 10,
   "metadata": {},
   "outputs": [
    {
     "name": "stdout",
     "output_type": "stream",
     "text": [
      "soc\n",
      "56\n"
     ]
    }
   ],
   "source": [
    "# but we can access the values with help of keys as an index\n",
    "# dict is not supporting indexing for access the items\n",
    "#\n",
    "var = {\"1,2,3\" : \"soc\" ,(1,2,4): \"56\" , -2 + 4j :\"45\" ,None : \"d\" ,True : \"45\"}\n",
    "print var[\"1,2,3\"]\n",
    "print var[(1,2,4)]\n"
   ]
  },
  {
   "cell_type": "code",
   "execution_count": 11,
   "metadata": {},
   "outputs": [
    {
     "name": "stdout",
     "output_type": "stream",
     "text": [
      "{56: 'python', 34: 'c'}\n"
     ]
    }
   ],
   "source": [
    "# dict is not supporting the duplicate key items \n",
    "var = {34 : \"soc\" , 56 : \"python\" , 34 :\"c\"}\n",
    "print var"
   ]
  },
  {
   "cell_type": "code",
   "execution_count": 12,
   "metadata": {},
   "outputs": [
    {
     "name": "stdout",
     "output_type": "stream",
     "text": [
      "[True, (-2+4j), '1,2,3', (1, 2, 4), None]\n"
     ]
    }
   ],
   "source": [
    "# dict is not supporting indexing for access the items\n",
    "#\n",
    "var = {\"1,2,3\" : \"soc\" ,(1,2,4): \"56\" , -2 + 4j :\"45\" ,None : \"d\" ,True : \"45\"}\n",
    "print var.keys()"
   ]
  },
  {
   "cell_type": "code",
   "execution_count": 13,
   "metadata": {},
   "outputs": [
    {
     "name": "stdout",
     "output_type": "stream",
     "text": [
      "['45', '45', 'soc', '56', 'd']\n"
     ]
    }
   ],
   "source": [
    "# dict is not supporting indexing for access the items\n",
    "#\n",
    "var = {\"1,2,3\" : \"soc\" ,(1,2,4): \"56\" , -2 + 4j :\"45\" ,None : \"d\" ,True : \"45\"}\n",
    "print var.values()"
   ]
  },
  {
   "cell_type": "code",
   "execution_count": 14,
   "metadata": {},
   "outputs": [
    {
     "name": "stdout",
     "output_type": "stream",
     "text": [
      "[(True, '45'), ((-2+4j), '45'), ('1,2,3', 'soc'), ((1, 2, 4), '56'), (None, 'd')]\n"
     ]
    }
   ],
   "source": [
    "# dict is not supporting indexing for access the items\n",
    "#\n",
    "var = {\"1,2,3\" : \"soc\" ,(1,2,4): \"56\" , -2 + 4j :\"45\" ,None : \"d\" ,True : \"45\"}\n",
    "print var.items()"
   ]
  },
  {
   "cell_type": "code",
   "execution_count": 15,
   "metadata": {},
   "outputs": [
    {
     "name": "stdout",
     "output_type": "stream",
     "text": [
      "dict_keys([True, (-2+4j), '1,2,3', (1, 2, 4), None])\n"
     ]
    }
   ],
   "source": [
    "# dict is not supporting indexing for access the items\n",
    "#\n",
    "var = {\"1,2,3\" : \"soc\" ,(1,2,4): \"56\" , -2 + 4j :\"45\" ,None : \"d\" ,True : \"45\"}\n",
    "print var.viewkeys()"
   ]
  },
  {
   "cell_type": "code",
   "execution_count": 16,
   "metadata": {},
   "outputs": [
    {
     "name": "stdout",
     "output_type": "stream",
     "text": [
      "dict_values(['45', '45', 'soc', '56', 'd'])\n"
     ]
    }
   ],
   "source": [
    "# dict is not supporting indexing for access the items\n",
    "#\n",
    "var = {\"1,2,3\" : \"soc\" ,(1,2,4): \"56\" , -2 + 4j :\"45\" ,None : \"d\" ,True : \"45\"}\n",
    "print var.viewvalues()"
   ]
  },
  {
   "cell_type": "code",
   "execution_count": 17,
   "metadata": {},
   "outputs": [
    {
     "name": "stdout",
     "output_type": "stream",
     "text": [
      "dict_items([(True, '45'), ((-2+4j), '45'), ('1,2,3', 'soc'), ((1, 2, 4), '56'), (None, 'd')])\n"
     ]
    }
   ],
   "source": [
    "# dict is not supporting indexing for access the items\n",
    "#\n",
    "var = {\"1,2,3\" : \"soc\" ,(1,2,4): \"56\" , -2 + 4j :\"45\" ,None : \"d\" ,True : \"45\"}\n",
    "print var.viewitems()"
   ]
  },
  {
   "cell_type": "code",
   "execution_count": 19,
   "metadata": {},
   "outputs": [
    {
     "name": "stdout",
     "output_type": "stream",
     "text": [
      "{True: '45', (-2+4j): '45', '1,2,3': 'soc', (1, 2, 4): '56', None: 'd'}\n",
      "d\n",
      "{True: '45', (-2+4j): '45', '1,2,3': 'soc', (1, 2, 4): '56'}\n"
     ]
    }
   ],
   "source": [
    "# dict is not supporting indexing for access the items\n",
    "#\n",
    "var = {\"1,2,3\" : \"soc\" ,(1,2,4): \"56\" , -2 + 4j :\"45\" ,None : \"d\" ,True : \"45\"}\n",
    "print var\n",
    "print var.pop(None)\n",
    "print var"
   ]
  },
  {
   "cell_type": "code",
   "execution_count": 20,
   "metadata": {},
   "outputs": [
    {
     "name": "stdout",
     "output_type": "stream",
     "text": [
      "{True: '45', (-2+4j): '45', '1,2,3': 'soc', (1, 2, 4): '56', None: 'd'}\n",
      "(True, '45')\n",
      "{(-2+4j): '45', '1,2,3': 'soc', (1, 2, 4): '56', None: 'd'}\n"
     ]
    }
   ],
   "source": [
    "# dict is not supporting indexing for access the items\n",
    "#\n",
    "var = {\"1,2,3\" : \"soc\" ,(1,2,4): \"56\" , -2 + 4j :\"45\" ,None : \"d\" ,True : \"45\"}\n",
    "print var\n",
    "print var.popitem()\n",
    "print var"
   ]
  },
  {
   "cell_type": "code",
   "execution_count": 22,
   "metadata": {},
   "outputs": [
    {
     "name": "stdout",
     "output_type": "stream",
     "text": [
      "{True: '45', (-2+4j): '45', '1,2,3': 'soc', (1, 2, 4): '56', None: 'd'}\n",
      "{}\n"
     ]
    }
   ],
   "source": [
    "# dict is noupporting indexing for access the items\n",
    "#\n",
    "var = {\"1,2,3\" : \"soc\" ,(1,2,4): \"56\" , -2 + 4j :\"45\" ,None : \"d\" ,True : \"45\"}\n",
    "print var\n",
    "var.clear()\n",
    "print var"
   ]
  },
  {
   "cell_type": "code",
   "execution_count": 23,
   "metadata": {},
   "outputs": [
    {
     "name": "stdout",
     "output_type": "stream",
     "text": [
      "{True: '45', (-2+4j): '45', '1,2,3': 'soc', (1, 2, 4): '56', None: 'd'}\n",
      "{True: '45', (-2+4j): '45', '1,2,3': 'soc', (1, 2, 4): '56', None: 'd'}\n",
      "{True: '45', (-2+4j): '45', '1,2,3': 'soc', (1, 2, 4): '56', None: 'd'}\n",
      "{True: '45', None: 'd', (-2+4j): '45', 3444: '234', '1,2,3': 'soc', (1, 2, 4): '56'}\n"
     ]
    }
   ],
   "source": [
    "# dict is not supporting indexing for access the items\n",
    "\n",
    "var = {\"1,2,3\" : \"soc\" ,(1,2,4): \"56\" , -2 + 4j :\"45\" ,None : \"d\" ,True : \"45\"}\n",
    "b = var.copy()\n",
    "print var\n",
    "print b\n",
    "b[3444]=\"234\"\n",
    "print var\n",
    "print b"
   ]
  },
  {
   "cell_type": "code",
   "execution_count": 24,
   "metadata": {},
   "outputs": [
    {
     "name": "stdout",
     "output_type": "stream",
     "text": [
      "{True: '45', (-2+4j): '45', '1,2,3': 'soc', (1, 2, 4): '56', None: 'd'}\n",
      "{True: '45', (-2+4j): '45', '1,2,3': 'soc', (1, 2, 4): '56', None: 'd'}\n",
      "{True: '45', None: 'd', (-2+4j): '45', 3444: '234', '1,2,3': 'soc', (1, 2, 4): '56'}\n",
      "{True: '45', None: 'd', (-2+4j): '45', 3444: '234', '1,2,3': 'soc', (1, 2, 4): '56'}\n"
     ]
    }
   ],
   "source": [
    "# dict is not supporting indexing for access the items\n",
    "\n",
    "var = {\"1,2,3\" : \"soc\" ,(1,2,4): \"56\" , -2 + 4j :\"45\" ,None : \"d\" ,True : \"45\"}\n",
    "b = var\n",
    "print var\n",
    "print b\n",
    "b[3444]=\"234\"\n",
    "print var\n",
    "print b"
   ]
  },
  {
   "cell_type": "code",
   "execution_count": 26,
   "metadata": {},
   "outputs": [
    {
     "name": "stdout",
     "output_type": "stream",
     "text": [
      "{True: '45', (-2+4j): '45', '1,2,3': 'soc', (1, 2, 4): '56', None: 'd'}\n",
      "56\n",
      "{True: '45', (-2+4j): '45', '1,2,3': 'soc', (1, 2, 4): '56', None: 'd'}\n"
     ]
    }
   ],
   "source": [
    "# dict is not supporting indexing for access the items\n",
    "\n",
    "var = {\"1,2,3\" : \"soc\" ,(1,2,4): \"56\" , -2 + 4j :\"45\" ,None : \"d\" ,True : \"45\"}\n",
    "print var\n",
    "print var.get((1,2,4))\n",
    "print var\n"
   ]
  },
  {
   "cell_type": "code",
   "execution_count": 27,
   "metadata": {},
   "outputs": [
    {
     "name": "stdout",
     "output_type": "stream",
     "text": [
      "{True: '45', (-2+4j): '45', '1,2,3': 'soc', (1, 2, 4): '56', None: 'd'}\n",
      "{90: '90', 23: '23'}\n",
      "{True: '45', '1,2,3': 'soc', (1, 2, 4): '56', None: 'd', (-2+4j): '45', 23: '23', 90: '90'}\n",
      "{90: '90', 23: '23'}\n"
     ]
    }
   ],
   "source": [
    "# dict is not supporting indexing for access the items\n",
    "\n",
    "var = {\"1,2,3\" : \"soc\" ,(1,2,4): \"56\" , -2 + 4j :\"45\" ,None : \"d\" ,True : \"45\"}\n",
    "b = {90 : \"90\" , 23 : \"23\"}\n",
    "print var\n",
    "print b\n",
    "var.update(b)\n",
    "print var\n",
    "print b"
   ]
  },
  {
   "cell_type": "code",
   "execution_count": 28,
   "metadata": {},
   "outputs": [
    {
     "name": "stdout",
     "output_type": "stream",
     "text": [
      "{True: '45', (-2+4j): '45', '1,2,3': 'soc', (1, 2, 4): '56', None: 'd'}\n",
      "{90: '90', 23: '23'}\n",
      "{90: '90', 23: '23'}\n",
      "{90: '90', 23: '23'}\n"
     ]
    }
   ],
   "source": [
    "# dict is not supporting indexing for access the items\n",
    "\n",
    "var = {\"1,2,3\" : \"soc\" ,(1,2,4): \"56\" , -2 + 4j :\"45\" ,None : \"d\" ,True : \"45\"}\n",
    "b = {90 : \"90\" , 23 : \"23\"}\n",
    "print var\n",
    "print b\n",
    "var = b\n",
    "print var\n",
    "print b"
   ]
  },
  {
   "cell_type": "code",
   "execution_count": null,
   "metadata": {},
   "outputs": [],
   "source": []
  },
  {
   "cell_type": "code",
   "execution_count": null,
   "metadata": {},
   "outputs": [],
   "source": []
  },
  {
   "cell_type": "code",
   "execution_count": null,
   "metadata": {},
   "outputs": [],
   "source": []
  }
 ],
 "metadata": {
  "kernelspec": {
   "display_name": "Python 2",
   "language": "python",
   "name": "python2"
  },
  "language_info": {
   "codemirror_mode": {
    "name": "ipython",
    "version": 2
   },
   "file_extension": ".py",
   "mimetype": "text/x-python",
   "name": "python",
   "nbconvert_exporter": "python",
   "pygments_lexer": "ipython2",
   "version": "2.7.16"
  }
 },
 "nbformat": 4,
 "nbformat_minor": 2
}
