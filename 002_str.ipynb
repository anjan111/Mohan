{
 "cells": [
  {
   "cell_type": "code",
   "execution_count": 1,
   "metadata": {},
   "outputs": [
    {
     "name": "stdout",
     "output_type": "stream",
     "text": [
      "<type 'str'>\n",
      "soc\n",
      "70391408\n"
     ]
    }
   ],
   "source": [
    "# collection of characters with in ''\n",
    "var = 'soc'\n",
    "print type(var)\n",
    "print var \n",
    "print id(var)"
   ]
  },
  {
   "cell_type": "code",
   "execution_count": 2,
   "metadata": {},
   "outputs": [
    {
     "name": "stdout",
     "output_type": "stream",
     "text": [
      "<type 'str'>\n",
      "soc\n",
      "70391408\n"
     ]
    }
   ],
   "source": [
    "var = \"soc\"\n",
    "print type(var)\n",
    "print var \n",
    "print id(var)"
   ]
  },
  {
   "cell_type": "code",
   "execution_count": 3,
   "metadata": {},
   "outputs": [
    {
     "name": "stdout",
     "output_type": "stream",
     "text": [
      "<type 'str'>\n",
      "soc\n",
      "70391408\n"
     ]
    }
   ],
   "source": [
    "var = '''soc'''\n",
    "print type(var)\n",
    "print var \n",
    "print id(var)"
   ]
  },
  {
   "cell_type": "code",
   "execution_count": 4,
   "metadata": {},
   "outputs": [
    {
     "name": "stdout",
     "output_type": "stream",
     "text": [
      "<type 'str'>\n",
      "soc\n",
      "70391408\n"
     ]
    }
   ],
   "source": [
    "var = \"\"\"soc\"\"\"\n",
    "print type(var)\n",
    "print var \n",
    "print id(var)"
   ]
  },
  {
   "cell_type": "code",
   "execution_count": 5,
   "metadata": {},
   "outputs": [
    {
     "name": "stdout",
     "output_type": "stream",
     "text": [
      "postive indexing\n",
      "p\n",
      "y\n",
      "t\n",
      "h\n",
      "o\n",
      "n\n"
     ]
    }
   ],
   "source": [
    "# access the single character from string\n",
    "\n",
    "# index --->> postive index  --->> 0 to len -1\n",
    "# index --->> negative index --->> -1 to -len\n",
    "var = \"python\"\n",
    "print \"postive indexing\"\n",
    "print var[0]\n",
    "print var[1]\n",
    "print var[2]\n",
    "print var[3]\n",
    "print var[4]\n",
    "print var[5]"
   ]
  },
  {
   "cell_type": "code",
   "execution_count": 6,
   "metadata": {},
   "outputs": [
    {
     "name": "stdout",
     "output_type": "stream",
     "text": [
      "Negative  indexing\n",
      "n\n",
      "o\n",
      "h\n",
      "t\n",
      "y\n",
      "p\n"
     ]
    }
   ],
   "source": [
    "var = \"python\"\n",
    "print \"Negative  indexing\"\n",
    "print var[-1]\n",
    "print var[-2]\n",
    "print var[-3]\n",
    "print var[-4]\n",
    "print var[-5]\n",
    "print var[-6]"
   ]
  },
  {
   "cell_type": "code",
   "execution_count": 10,
   "metadata": {},
   "outputs": [
    {
     "name": "stdout",
     "output_type": "stream",
     "text": [
      "27\n",
      "n prog\n",
      "python prog\n",
      "python prog\n",
      "n programming language\n",
      "n programming language\n"
     ]
    }
   ],
   "source": [
    "# str slicing  -->> access the group of continuos characters as a string \n",
    "# var[start :  stop ]\n",
    "# start --->> 0\n",
    "# stop  --->> len\n",
    "var =\"python programming language\"\n",
    "print len(var) # len -->> 27\n",
    "print var[5:11]\n",
    "print var[: 11]\n",
    "print var[0: 11]\n",
    "print var[5:]\n",
    "print var[5:27]"
   ]
  },
  {
   "cell_type": "code",
   "execution_count": 14,
   "metadata": {},
   "outputs": [
    {
     "name": "stdout",
     "output_type": "stream",
     "text": [
      "27\n",
      "opgmnl\n",
      "on programming l\n",
      "on programming l\n",
      "o rgamn agae\n",
      "ph oai \n"
     ]
    }
   ],
   "source": [
    "# str dicing --->> access the group of periodical  character  from str as a str\n",
    "# var[ start : stop : step ]\n",
    "# step --->> 1\n",
    "# start --->> 0\n",
    "# stop ---->> len\n",
    "var =\"python programming language\"\n",
    "print len(var) # len -->> 27\n",
    "print var[4:20:3]#4,7, 10,13,16,19\n",
    "print var[4:20:]\n",
    "print var[4:20:1]\n",
    "print var[4: : 2]\n",
    "print var[:20:3]"
   ]
  },
  {
   "cell_type": "code",
   "execution_count": 15,
   "metadata": {},
   "outputs": [
    {
     "name": "stdout",
     "output_type": "stream",
     "text": [
      "o\n"
     ]
    },
    {
     "ename": "TypeError",
     "evalue": "'str' object does not support item assignment",
     "output_type": "error",
     "traceback": [
      "\u001b[1;31m\u001b[0m",
      "\u001b[1;31mTypeError\u001b[0mTraceback (most recent call last)",
      "\u001b[1;32m<ipython-input-15-2124ffaafada>\u001b[0m in \u001b[0;36m<module>\u001b[1;34m()\u001b[0m\n\u001b[0;32m      2\u001b[0m \u001b[0mvar\u001b[0m \u001b[1;33m=\u001b[0m\u001b[1;34m\"python\"\u001b[0m\u001b[1;33m\u001b[0m\u001b[0m\n\u001b[0;32m      3\u001b[0m \u001b[1;32mprint\u001b[0m \u001b[0mvar\u001b[0m\u001b[1;33m[\u001b[0m\u001b[1;36m4\u001b[0m\u001b[1;33m]\u001b[0m\u001b[1;33m\u001b[0m\u001b[0m\n\u001b[1;32m----> 4\u001b[1;33m \u001b[0mvar\u001b[0m\u001b[1;33m[\u001b[0m\u001b[1;36m4\u001b[0m\u001b[1;33m]\u001b[0m \u001b[1;33m=\u001b[0m \u001b[1;34m'E'\u001b[0m\u001b[1;33m\u001b[0m\u001b[0m\n\u001b[0m\u001b[0;32m      5\u001b[0m \u001b[1;32mprint\u001b[0m \u001b[0mvar\u001b[0m\u001b[1;33m\u001b[0m\u001b[0m\n",
      "\u001b[1;31mTypeError\u001b[0m: 'str' object does not support item assignment"
     ]
    }
   ],
   "source": [
    "# str --->. immutbale datatype\n",
    "var =\"python\"\n",
    "print var[4]\n",
    "var[4] = 'E'\n",
    "print var"
   ]
  },
  {
   "cell_type": "code",
   "execution_count": 17,
   "metadata": {},
   "outputs": [
    {
     "name": "stdout",
     "output_type": "stream",
     "text": [
      "socsoftech\n",
      "socsocsoc\n"
     ]
    }
   ],
   "source": [
    "a = \"soc\"\n",
    "b =\"softech\"\n",
    "print a+b\n",
    "print a * 3"
   ]
  },
  {
   "cell_type": "code",
   "execution_count": 18,
   "metadata": {},
   "outputs": [
    {
     "name": "stdout",
     "output_type": "stream",
     "text": [
      "h\n",
      "y\n"
     ]
    }
   ],
   "source": [
    "var =\"python\"\n",
    "print min(var)\n",
    "print max(var)"
   ]
  },
  {
   "cell_type": "code",
   "execution_count": 19,
   "metadata": {},
   "outputs": [
    {
     "name": "stdout",
     "output_type": "stream",
     "text": [
      "C\n",
      "d\n"
     ]
    }
   ],
   "source": [
    "print chr(67)\n",
    "print chr(100)"
   ]
  },
  {
   "cell_type": "code",
   "execution_count": 20,
   "metadata": {},
   "outputs": [
    {
     "name": "stdout",
     "output_type": "stream",
     "text": [
      "67\n",
      "100\n"
     ]
    }
   ],
   "source": [
    "print ord('C')\n",
    "print ord('d')"
   ]
  },
  {
   "cell_type": "code",
   "execution_count": 1,
   "metadata": {},
   "outputs": [
    {
     "name": "stdout",
     "output_type": "stream",
     "text": [
      "['__add__', '__class__', '__contains__', '__delattr__', '__doc__', '__eq__', '__format__', '__ge__', '__getattribute__', '__getitem__', '__getnewargs__', '__getslice__', '__gt__', '__hash__', '__init__', '__le__', '__len__', '__lt__', '__mod__', '__mul__', '__ne__', '__new__', '__reduce__', '__reduce_ex__', '__repr__', '__rmod__', '__rmul__', '__setattr__', '__sizeof__', '__str__', '__subclasshook__', '_formatter_field_name_split', '_formatter_parser', 'capitalize', 'center', 'count', 'decode', 'encode', 'endswith', 'expandtabs', 'find', 'format', 'index', 'isalnum', 'isalpha', 'isdigit', 'islower', 'isspace', 'istitle', 'isupper', 'join', 'ljust', 'lower', 'lstrip', 'partition', 'replace', 'rfind', 'rindex', 'rjust', 'rpartition', 'rsplit', 'rstrip', 'split', 'splitlines', 'startswith', 'strip', 'swapcase', 'title', 'translate', 'upper', 'zfill']\n"
     ]
    }
   ],
   "source": [
    "# str manipulation methods \n",
    "# str --->> pre defined class\n",
    "# special methods  ----->>>   __nameofmethod__\n",
    "###### with out calling those methods can executed \n",
    "\n",
    "# normal methods\n",
    "print dir(str)"
   ]
  },
  {
   "cell_type": "code",
   "execution_count": 2,
   "metadata": {},
   "outputs": [
    {
     "name": "stdout",
     "output_type": "stream",
     "text": [
      "soc softech\n",
      "soc softech\n",
      "Help on wrapper_descriptor:\n",
      "\n",
      "__add__(...)\n",
      "    x.__add__(y) <==> x+y\n",
      "\n",
      "None\n"
     ]
    }
   ],
   "source": [
    "a = \"soc \"\n",
    "b = \"softech\"\n",
    "print a+b\n",
    "print a.__add__(b)\n",
    "print help(str.__add__)"
   ]
  },
  {
   "cell_type": "code",
   "execution_count": 3,
   "metadata": {},
   "outputs": [
    {
     "name": "stdout",
     "output_type": "stream",
     "text": [
      "soc soc soc \n",
      "soc soc soc \n",
      "Help on wrapper_descriptor:\n",
      "\n",
      "__mul__(...)\n",
      "    x.__mul__(n) <==> x*n\n",
      "\n",
      "None\n"
     ]
    }
   ],
   "source": [
    "a = \"soc \"\n",
    "b = \"softech\"\n",
    "print a * 3\n",
    "print a.__mul__(3)\n",
    "print help(str.__mul__)"
   ]
  },
  {
   "cell_type": "code",
   "execution_count": 4,
   "metadata": {},
   "outputs": [
    {
     "name": "stdout",
     "output_type": "stream",
     "text": [
      "False\n",
      "False\n",
      "******\n",
      "True\n",
      "True\n",
      "******\n",
      "False\n",
      "False\n",
      "******\n",
      "True\n",
      "True\n",
      "******\n",
      "False\n",
      "False\n",
      "******\n",
      "True\n",
      "True\n",
      "******\n"
     ]
    }
   ],
   "source": [
    "a = \"sof\"\n",
    "b = \"soc\"\n",
    "print a < b\n",
    "print a.__lt__(b)\n",
    "print \"******\"\n",
    "print a > b\n",
    "print a.__gt__(b)\n",
    "print \"******\"\n",
    "print a == b\n",
    "print a.__eq__(b)\n",
    "print \"******\"\n",
    "print a != b\n",
    "print a.__ne__(b)\n",
    "print \"******\"\n",
    "print a <= b\n",
    "print a.__le__(b)\n",
    "print \"******\"\n",
    "print a >= b\n",
    "print a.__ge__(b)\n",
    "print \"******\""
   ]
  },
  {
   "cell_type": "code",
   "execution_count": 8,
   "metadata": {},
   "outputs": [
    {
     "name": "stdout",
     "output_type": "stream",
     "text": [
      "64065648\n",
      "Python programming langugage\n",
      "pYthon PRogrammIng LANGugage\n",
      "64065648\n"
     ]
    }
   ],
   "source": [
    "# normal methods \n",
    "\n",
    "var = \"pYthon PRogrammIng LANGugage\"\n",
    "print id(var)\n",
    "print var.capitalize()\n",
    "print var\n",
    "print id(var)"
   ]
  },
  {
   "cell_type": "code",
   "execution_count": null,
   "metadata": {},
   "outputs": [],
   "source": []
  },
  {
   "cell_type": "code",
   "execution_count": 7,
   "metadata": {},
   "outputs": [
    {
     "name": "stdout",
     "output_type": "stream",
     "text": [
      "Python Programming Langugage\n",
      "pYthon PRogrammIng LANGugage\n"
     ]
    }
   ],
   "source": [
    "var = \"pYthon PRogrammIng LANGugage\"\n",
    "print var.title()\n",
    "print var"
   ]
  },
  {
   "cell_type": "code",
   "execution_count": 9,
   "metadata": {},
   "outputs": [
    {
     "name": "stdout",
     "output_type": "stream",
     "text": [
      "python programming langugage\n",
      "pYthon PRogrammIng LANGugage\n"
     ]
    }
   ],
   "source": [
    "var = \"pYthon PRogrammIng LANGugage\"\n",
    "print var.lower()\n",
    "print var"
   ]
  },
  {
   "cell_type": "code",
   "execution_count": 10,
   "metadata": {},
   "outputs": [
    {
     "name": "stdout",
     "output_type": "stream",
     "text": [
      "PYTHON PROGRAMMING LANGUGAGE\n",
      "pYthon PRogrammIng LANGugage\n"
     ]
    }
   ],
   "source": [
    "var = \"pYthon PRogrammIng LANGugage\"\n",
    "print var.upper()\n",
    "print var"
   ]
  },
  {
   "cell_type": "code",
   "execution_count": 13,
   "metadata": {},
   "outputs": [
    {
     "name": "stdout",
     "output_type": "stream",
     "text": [
      "88pYthon PRogrammIng LANGugage88\n",
      "pYthon PRogrammIng LANGugage\n"
     ]
    }
   ],
   "source": [
    "var = \"pYthon PRogrammIng LANGugage\"\n",
    "print var.center(32,'8')\n",
    "print var"
   ]
  },
  {
   "cell_type": "code",
   "execution_count": 14,
   "metadata": {},
   "outputs": [
    {
     "name": "stdout",
     "output_type": "stream",
     "text": [
      "00pYthon PRogrammIng LANGugage\n",
      "pYthon PRogrammIng LANGugage\n"
     ]
    }
   ],
   "source": [
    "var = \"pYthon PRogrammIng LANGugage\"\n",
    "print var.zfill(30)\n",
    "print var"
   ]
  },
  {
   "cell_type": "code",
   "execution_count": 16,
   "metadata": {},
   "outputs": [
    {
     "name": "stdout",
     "output_type": "stream",
     "text": [
      "pYthon PRogr1mmIng LANGug1ge\n",
      "pYthon PRogrammIng LANGugage\n"
     ]
    }
   ],
   "source": [
    "var = \"pYthon PRogrammIng LANGugage\"\n",
    "print var.replace('a','1')\n",
    "print var"
   ]
  },
  {
   "cell_type": "code",
   "execution_count": 17,
   "metadata": {},
   "outputs": [
    {
     "name": "stdout",
     "output_type": "stream",
     "text": [
      "True\n"
     ]
    }
   ],
   "source": [
    "a = \"soc\"\n",
    "print a.islower()"
   ]
  },
  {
   "cell_type": "code",
   "execution_count": 18,
   "metadata": {},
   "outputs": [
    {
     "name": "stdout",
     "output_type": "stream",
     "text": [
      "True\n"
     ]
    }
   ],
   "source": [
    "a = \"SOC\"\n",
    "print a.isupper()"
   ]
  },
  {
   "cell_type": "code",
   "execution_count": 19,
   "metadata": {},
   "outputs": [
    {
     "name": "stdout",
     "output_type": "stream",
     "text": [
      "True\n"
     ]
    }
   ],
   "source": [
    "a = \"1234\"\n",
    "print a.isdigit()"
   ]
  },
  {
   "cell_type": "code",
   "execution_count": 23,
   "metadata": {},
   "outputs": [
    {
     "name": "stdout",
     "output_type": "stream",
     "text": [
      "True\n",
      "True\n",
      "True\n",
      "False\n"
     ]
    }
   ],
   "source": [
    "a=\"asf4545\"\n",
    "print a.isalnum()\n",
    "a = \"soDF\"\n",
    "print a.isalnum()\n",
    "a = \"12554\"\n",
    "print a.isalnum()\n",
    "a= \"sd^23\"\n",
    "print a.isalnum()"
   ]
  },
  {
   "cell_type": "code",
   "execution_count": 25,
   "metadata": {},
   "outputs": [
    {
     "name": "stdout",
     "output_type": "stream",
     "text": [
      "True\n",
      "False\n"
     ]
    }
   ],
   "source": [
    "a = \"       \"\n",
    "print a.isspace()\n",
    "a = \"   1    \"\n",
    "print a.isspace()"
   ]
  },
  {
   "cell_type": "code",
   "execution_count": 26,
   "metadata": {},
   "outputs": [
    {
     "name": "stdout",
     "output_type": "stream",
     "text": [
      "['__add__', '__class__', '__contains__', '__delattr__', '__doc__', '__eq__', '__format__', '__ge__', '__getattribute__', '__getitem__', '__getnewargs__', '__getslice__', '__gt__', '__hash__', '__init__', '__le__', '__len__', '__lt__', '__mod__', '__mul__', '__ne__', '__new__', '__reduce__', '__reduce_ex__', '__repr__', '__rmod__', '__rmul__', '__setattr__', '__sizeof__', '__str__', '__subclasshook__', '_formatter_field_name_split', '_formatter_parser', 'capitalize', 'center', 'count', 'decode', 'encode', 'endswith', 'expandtabs', 'find', 'format', 'index', 'isalnum', 'isalpha', 'isdigit', 'islower', 'isspace', 'istitle', 'isupper', 'join', 'ljust', 'lower', 'lstrip', 'partition', 'replace', 'rfind', 'rindex', 'rjust', 'rpartition', 'rsplit', 'rstrip', 'split', 'splitlines', 'startswith', 'strip', 'swapcase', 'title', 'translate', 'upper', 'zfill']\n"
     ]
    }
   ],
   "source": [
    "print dir(str)"
   ]
  },
  {
   "cell_type": "code",
   "execution_count": 27,
   "metadata": {},
   "outputs": [
    {
     "name": "stdout",
     "output_type": "stream",
     "text": [
      "ASDDertt\n",
      "asddERTT\n"
     ]
    }
   ],
   "source": [
    "a = \"ASDDertt\"\n",
    "print a\n",
    "print a.swapcase()"
   ]
  },
  {
   "cell_type": "code",
   "execution_count": 29,
   "metadata": {},
   "outputs": [
    {
     "name": "stdout",
     "output_type": "stream",
     "text": [
      "['anjan', 'kumar', 'python', 'developer']\n"
     ]
    }
   ],
   "source": [
    "a = \"anjan kumar python developer\"\n",
    "print a.split()\n"
   ]
  },
  {
   "cell_type": "code",
   "execution_count": 30,
   "metadata": {},
   "outputs": [
    {
     "name": "stdout",
     "output_type": "stream",
     "text": [
      "anjan kumar python developer\n"
     ]
    }
   ],
   "source": [
    "a = ['anjan', 'kumar', 'python', 'developer']\n",
    "print ' '.join(a)"
   ]
  },
  {
   "cell_type": "code",
   "execution_count": 31,
   "metadata": {},
   "outputs": [
    {
     "name": "stdout",
     "output_type": "stream",
     "text": [
      "['', 'nj', 'n kum', 'r python developer']\n"
     ]
    }
   ],
   "source": [
    "a = \"anjan kumar python developer\"\n",
    "print a.split('a')\n"
   ]
  },
  {
   "cell_type": "code",
   "execution_count": 32,
   "metadata": {},
   "outputs": [
    {
     "name": "stdout",
     "output_type": "stream",
     "text": [
      "anjan kumar python developer\n"
     ]
    }
   ],
   "source": [
    "b =['', 'nj', 'n kum', 'r python developer']\n",
    "print \"a\".join(b)"
   ]
  },
  {
   "cell_type": "code",
   "execution_count": 33,
   "metadata": {},
   "outputs": [
    {
     "name": "stdout",
     "output_type": "stream",
     "text": [
      "3\n"
     ]
    }
   ],
   "source": [
    "a = \"anjan kumar\"\n",
    "print a.count('a')"
   ]
  },
  {
   "cell_type": "code",
   "execution_count": 36,
   "metadata": {},
   "outputs": [
    {
     "name": "stdout",
     "output_type": "stream",
     "text": [
      "1\n",
      "1\n"
     ]
    }
   ],
   "source": [
    "a = \"anjan kumar\"\n",
    "print a.index('n')\n",
    "print a.find('n')"
   ]
  },
  {
   "cell_type": "code",
   "execution_count": 37,
   "metadata": {},
   "outputs": [
    {
     "name": "stdout",
     "output_type": "stream",
     "text": [
      "-1\n"
     ]
    },
    {
     "ename": "ValueError",
     "evalue": "substring not found",
     "output_type": "error",
     "traceback": [
      "\u001b[1;31m---------------------------------------------------------------------------\u001b[0m",
      "\u001b[1;31mValueError\u001b[0m                                Traceback (most recent call last)",
      "\u001b[1;32m<ipython-input-37-ec116ad0f33b>\u001b[0m in \u001b[0;36m<module>\u001b[1;34m()\u001b[0m\n\u001b[0;32m      2\u001b[0m \u001b[1;33m\u001b[0m\u001b[0m\n\u001b[0;32m      3\u001b[0m \u001b[1;32mprint\u001b[0m \u001b[0ma\u001b[0m\u001b[1;33m.\u001b[0m\u001b[0mfind\u001b[0m\u001b[1;33m(\u001b[0m\u001b[1;34m'4'\u001b[0m\u001b[1;33m)\u001b[0m\u001b[1;33m\u001b[0m\u001b[0m\n\u001b[1;32m----> 4\u001b[1;33m \u001b[1;32mprint\u001b[0m \u001b[0ma\u001b[0m\u001b[1;33m.\u001b[0m\u001b[0mindex\u001b[0m\u001b[1;33m(\u001b[0m\u001b[1;34m'4'\u001b[0m\u001b[1;33m)\u001b[0m\u001b[1;33m\u001b[0m\u001b[0m\n\u001b[0m",
      "\u001b[1;31mValueError\u001b[0m: substring not found"
     ]
    }
   ],
   "source": [
    "a = \"anjan kumar\"\n",
    "\n",
    "print a.find('4')\n",
    "print a.index('4')"
   ]
  },
  {
   "cell_type": "code",
   "execution_count": null,
   "metadata": {},
   "outputs": [],
   "source": []
  },
  {
   "cell_type": "code",
   "execution_count": null,
   "metadata": {},
   "outputs": [],
   "source": []
  }
 ],
 "metadata": {
  "kernelspec": {
   "display_name": "Python 2",
   "language": "python",
   "name": "python2"
  },
  "language_info": {
   "codemirror_mode": {
    "name": "ipython",
    "version": 2
   },
   "file_extension": ".py",
   "mimetype": "text/x-python",
   "name": "python",
   "nbconvert_exporter": "python",
   "pygments_lexer": "ipython2",
   "version": "2.7.16"
  }
 },
 "nbformat": 4,
 "nbformat_minor": 2
}
