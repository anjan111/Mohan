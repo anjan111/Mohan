{
 "cells": [
  {
   "cell_type": "markdown",
   "metadata": {},
   "source": [
    "#### syntax\n",
    "\n",
    "---->>> The structure for a writing a program\n",
    "\n",
    "#### program\n",
    "\n",
    "--->>> Set of instructions to do any one specific task\n",
    "\n",
    "#### Instruction\n",
    "\n",
    "---->>> A line of code with in the program\n",
    "\n",
    "---->>> There are 2 types of instructions \n",
    "\n",
    "1. Comments \n",
    "\n",
    "    --->>> An instruction which can't be executables\n",
    "    \n",
    "    --->>> To give the brief explanation for each and every statement\n",
    "    \n",
    "    --->>> Single comment   #\n",
    "    \n",
    "    --->>> Multiline comment  ''' \n",
    "\n",
    "2. Statements\n",
    "\n",
    "    --->> An instruction which can be executable"
   ]
  },
  {
   "cell_type": "code",
   "execution_count": 1,
   "metadata": {},
   "outputs": [
    {
     "name": "stdout",
     "output_type": "stream",
     "text": [
      "hello\n",
      "hai\n",
      "bye\n"
     ]
    }
   ],
   "source": [
    "# singleline comment\n",
    "'''\n",
    "this is\n",
    "multiline \n",
    "comment\n",
    "'''\n",
    "print \"hello\"# statement\n",
    "print \"hai\"\n",
    "print \"bye\""
   ]
  },
  {
   "cell_type": "code",
   "execution_count": 2,
   "metadata": {},
   "outputs": [
    {
     "name": "stdout",
     "output_type": "stream",
     "text": [
      "['and', 'as', 'assert', 'break', 'class', 'continue', 'def', 'del', 'elif', 'else', 'except', 'exec', 'finally', 'for', 'from', 'global', 'if', 'import', 'in', 'is', 'lambda', 'not', 'or', 'pass', 'print', 'raise', 'return', 'try', 'while', 'with', 'yield']\n"
     ]
    }
   ],
   "source": [
    "#keywords \n",
    "'''\n",
    "--->> which are pre defined words \n",
    "--->> each and every keyword having its own specific task\n",
    "'''\n",
    "import keyword\n",
    "print keyword.kwlist"
   ]
  },
  {
   "cell_type": "code",
   "execution_count": 3,
   "metadata": {},
   "outputs": [
    {
     "name": "stdout",
     "output_type": "stream",
     "text": [
      "31\n"
     ]
    }
   ],
   "source": [
    "import keyword\n",
    "print len(keyword.kwlist)"
   ]
  },
  {
   "cell_type": "code",
   "execution_count": 4,
   "metadata": {},
   "outputs": [
    {
     "name": "stdout",
     "output_type": "stream",
     "text": [
      "35164336\n",
      "123\n"
     ]
    }
   ],
   "source": [
    "#identifiers\n",
    "'''\n",
    "->> user defined words\n",
    "->>  give the name enities for variables , functions, classes\n",
    "'''\n",
    "#rules\n",
    "'''\n",
    "-->> we can use alphabets a - z/ A -Z\n",
    "-->> we can use digits    0- 9 \n",
    "-->> we can use underscore  _\n",
    "-->> don't use special character!@#$%^&*()\n",
    "-->> don't use keywords \n",
    "-->> don't start with digit\n",
    "'''\n",
    "# variable\n",
    "'''\n",
    "--->>A name which is useed for to store the data with in memory loc\n",
    "-->>> we can directly assign the data to the variable\n",
    "'''\n",
    "var = 123\n",
    "print id(var)\n",
    "print var"
   ]
  },
  {
   "cell_type": "code",
   "execution_count": 5,
   "metadata": {},
   "outputs": [
    {
     "name": "stdout",
     "output_type": "stream",
     "text": [
      "65561656\n",
      "12.3\n"
     ]
    }
   ],
   "source": [
    "var = 12.3\n",
    "print id(var)\n",
    "print var"
   ]
  },
  {
   "cell_type": "code",
   "execution_count": 1,
   "metadata": {},
   "outputs": [
    {
     "name": "stdout",
     "output_type": "stream",
     "text": [
      "123\n"
     ]
    }
   ],
   "source": [
    "Va_2 = 123\n",
    "print Va_2"
   ]
  },
  {
   "cell_type": "code",
   "execution_count": 2,
   "metadata": {},
   "outputs": [
    {
     "ename": "SyntaxError",
     "evalue": "invalid syntax (<ipython-input-2-7e5b57650746>, line 1)",
     "output_type": "error",
     "traceback": [
      "\u001b[1;36m  File \u001b[1;32m\"<ipython-input-2-7e5b57650746>\"\u001b[1;36m, line \u001b[1;32m1\u001b[0m\n\u001b[1;33m    4var =45\u001b[0m\n\u001b[1;37m       ^\u001b[0m\n\u001b[1;31mSyntaxError\u001b[0m\u001b[1;31m:\u001b[0m invalid syntax\n"
     ]
    }
   ],
   "source": [
    "4var =45"
   ]
  },
  {
   "cell_type": "code",
   "execution_count": 3,
   "metadata": {},
   "outputs": [
    {
     "ename": "SyntaxError",
     "evalue": "invalid syntax (<ipython-input-3-dfd54e210af8>, line 1)",
     "output_type": "error",
     "traceback": [
      "\u001b[1;36m  File \u001b[1;32m\"<ipython-input-3-dfd54e210af8>\"\u001b[1;36m, line \u001b[1;32m1\u001b[0m\n\u001b[1;33m    while = 234\u001b[0m\n\u001b[1;37m          ^\u001b[0m\n\u001b[1;31mSyntaxError\u001b[0m\u001b[1;31m:\u001b[0m invalid syntax\n"
     ]
    }
   ],
   "source": [
    "while = 234"
   ]
  },
  {
   "cell_type": "code",
   "execution_count": 4,
   "metadata": {},
   "outputs": [
    {
     "ename": "SyntaxError",
     "evalue": "invalid syntax (<ipython-input-4-b2ae48643b07>, line 1)",
     "output_type": "error",
     "traceback": [
      "\u001b[1;36m  File \u001b[1;32m\"<ipython-input-4-b2ae48643b07>\"\u001b[1;36m, line \u001b[1;32m1\u001b[0m\n\u001b[1;33m    v@r = 456\u001b[0m\n\u001b[1;37m     ^\u001b[0m\n\u001b[1;31mSyntaxError\u001b[0m\u001b[1;31m:\u001b[0m invalid syntax\n"
     ]
    }
   ],
   "source": [
    "v@r = 456"
   ]
  },
  {
   "cell_type": "code",
   "execution_count": null,
   "metadata": {},
   "outputs": [],
   "source": []
  },
  {
   "cell_type": "code",
   "execution_count": 6,
   "metadata": {},
   "outputs": [
    {
     "name": "stdout",
     "output_type": "stream",
     "text": [
      "<type 'int'>\n"
     ]
    }
   ],
   "source": [
    "# datatypes\n",
    "'''\n",
    "-->> to specify the type of the data\n",
    "'''\n",
    "# fundamental datatype\n",
    "var = 123\n",
    "print type(var)"
   ]
  },
  {
   "cell_type": "code",
   "execution_count": 7,
   "metadata": {},
   "outputs": [
    {
     "name": "stdout",
     "output_type": "stream",
     "text": [
      "<type 'float'>\n"
     ]
    }
   ],
   "source": [
    "var = 1.23\n",
    "print type(var)"
   ]
  },
  {
   "cell_type": "code",
   "execution_count": 10,
   "metadata": {},
   "outputs": [
    {
     "name": "stdout",
     "output_type": "stream",
     "text": [
      "<type 'bool'>\n"
     ]
    }
   ],
   "source": [
    "var = True\n",
    "print type(var)\n",
    "var = False"
   ]
  },
  {
   "cell_type": "code",
   "execution_count": 9,
   "metadata": {},
   "outputs": [
    {
     "name": "stdout",
     "output_type": "stream",
     "text": [
      "<type 'complex'>\n"
     ]
    }
   ],
   "source": [
    "var = 1+3j\n",
    "print type(var)"
   ]
  },
  {
   "cell_type": "code",
   "execution_count": 11,
   "metadata": {},
   "outputs": [
    {
     "name": "stdout",
     "output_type": "stream",
     "text": [
      "<type 'NoneType'>\n"
     ]
    }
   ],
   "source": [
    "var = None\n",
    "print type(var)"
   ]
  },
  {
   "cell_type": "code",
   "execution_count": 12,
   "metadata": {},
   "outputs": [
    {
     "name": "stdout",
     "output_type": "stream",
     "text": [
      "<type 'str'>\n"
     ]
    }
   ],
   "source": [
    "# sequencial datatype\n",
    "var = \"soc\"\n",
    "print type(var)"
   ]
  },
  {
   "cell_type": "code",
   "execution_count": 14,
   "metadata": {},
   "outputs": [
    {
     "name": "stdout",
     "output_type": "stream",
     "text": [
      "<type 'list'>\n"
     ]
    }
   ],
   "source": [
    "var = [12,45.45 ,4+5j]\n",
    "print type(var)"
   ]
  },
  {
   "cell_type": "code",
   "execution_count": 15,
   "metadata": {},
   "outputs": [
    {
     "name": "stdout",
     "output_type": "stream",
     "text": [
      "<type 'tuple'>\n"
     ]
    }
   ],
   "source": [
    "var = (12,45.45 ,4+5j)\n",
    "print type(var)"
   ]
  },
  {
   "cell_type": "code",
   "execution_count": 16,
   "metadata": {},
   "outputs": [
    {
     "name": "stdout",
     "output_type": "stream",
     "text": [
      "<type 'set'>\n"
     ]
    }
   ],
   "source": [
    "var = {12,45.45 ,4+5j}\n",
    "print type(var)"
   ]
  },
  {
   "cell_type": "code",
   "execution_count": 17,
   "metadata": {},
   "outputs": [
    {
     "name": "stdout",
     "output_type": "stream",
     "text": [
      "<type 'dict'>\n"
     ]
    }
   ],
   "source": [
    "var = {12 : \"soc\",45.45 : \"23\" ,4+5j : 345}\n",
    "print type(var)"
   ]
  },
  {
   "cell_type": "code",
   "execution_count": 5,
   "metadata": {},
   "outputs": [
    {
     "name": "stdout",
     "output_type": "stream",
     "text": [
      "enter int : 100\n",
      "100\n",
      "<type 'int'>\n",
      "39815952\n"
     ]
    }
   ],
   "source": [
    "# input() --->> to read the data \n",
    "\n",
    "# read int data display , type, memory\n",
    "var = input(\"enter int : \")\n",
    "print var\n",
    "print type(var)\n",
    "print id(var)"
   ]
  },
  {
   "cell_type": "code",
   "execution_count": 6,
   "metadata": {},
   "outputs": [
    {
     "name": "stdout",
     "output_type": "stream",
     "text": [
      "enter float : 78.231\n",
      "78.231\n",
      "<type 'float'>\n",
      "70486792\n"
     ]
    }
   ],
   "source": [
    "# read float data display , type, memory\n",
    "var = input(\"enter float : \")\n",
    "print var\n",
    "print type(var)\n",
    "print id(var)"
   ]
  },
  {
   "cell_type": "code",
   "execution_count": 9,
   "metadata": {},
   "outputs": [
    {
     "name": "stdout",
     "output_type": "stream",
     "text": [
      "enter complex : 5+6j\n",
      "(5+6j)\n",
      "<type 'complex'>\n",
      "71256112\n"
     ]
    }
   ],
   "source": [
    "# 8 programs for each program new datatype \n",
    "\n",
    "# read complex data display , type, memory\n",
    "var = input(\"enter complex : \")\n",
    "print var\n",
    "print type(var)\n",
    "print id(var)\n"
   ]
  },
  {
   "cell_type": "code",
   "execution_count": 10,
   "metadata": {},
   "outputs": [
    {
     "name": "stdout",
     "output_type": "stream",
     "text": [
      "enter bool : True\n",
      "True\n",
      "<type 'bool'>\n",
      "1811594984\n"
     ]
    }
   ],
   "source": [
    "# read bool data display , type, memory\n",
    "var = input(\"enter bool : \")\n",
    "print var\n",
    "print type(var)\n",
    "print id(var)"
   ]
  },
  {
   "cell_type": "code",
   "execution_count": 11,
   "metadata": {},
   "outputs": [
    {
     "name": "stdout",
     "output_type": "stream",
     "text": [
      "enter bool : False\n",
      "False\n",
      "<type 'bool'>\n",
      "1811594568\n"
     ]
    }
   ],
   "source": [
    "# read bool data display , type, memory\n",
    "var = input(\"enter bool : \")\n",
    "print var\n",
    "print type(var)\n",
    "print id(var)"
   ]
  },
  {
   "cell_type": "code",
   "execution_count": 12,
   "metadata": {},
   "outputs": [
    {
     "name": "stdout",
     "output_type": "stream",
     "text": [
      "enter None: None\n",
      "None\n",
      "<type 'NoneType'>\n",
      "1811549304\n"
     ]
    }
   ],
   "source": [
    "# read None data display , type, memory\n",
    "var = input(\"enter None: \")\n",
    "print var\n",
    "print type(var)\n",
    "print id(var)"
   ]
  },
  {
   "cell_type": "code",
   "execution_count": 13,
   "metadata": {},
   "outputs": [
    {
     "name": "stdout",
     "output_type": "stream",
     "text": [
      "enter str : \"123532\"\n",
      "123532\n",
      "<type 'str'>\n",
      "77261640\n"
     ]
    }
   ],
   "source": [
    "# read str data display , type, memory\n",
    "var = input(\"enter str : \")\n",
    "print var\n",
    "print type(var)\n",
    "print id(var)"
   ]
  },
  {
   "cell_type": "code",
   "execution_count": 14,
   "metadata": {},
   "outputs": [
    {
     "name": "stdout",
     "output_type": "stream",
     "text": [
      "enter list : [12, 4.4, 6+4j]\n",
      "[12, 4.4, (6+4j)]\n",
      "<type 'list'>\n",
      "77855432\n"
     ]
    }
   ],
   "source": [
    "# read list data display , type, memory\n",
    "var = input(\"enter list : \")\n",
    "print var\n",
    "print type(var)\n",
    "print id(var)"
   ]
  },
  {
   "cell_type": "code",
   "execution_count": 15,
   "metadata": {},
   "outputs": [
    {
     "name": "stdout",
     "output_type": "stream",
     "text": [
      "enter tuple : (12, 5.34 , 5+33j)\n",
      "(12, 5.34, (5+33j))\n",
      "<type 'tuple'>\n",
      "77800504\n"
     ]
    }
   ],
   "source": [
    "# read tuple data display , type, memory\n",
    "var = input(\"enter tuple : \")\n",
    "print var\n",
    "print type(var)\n",
    "print id(var)"
   ]
  },
  {
   "cell_type": "code",
   "execution_count": 16,
   "metadata": {},
   "outputs": [
    {
     "name": "stdout",
     "output_type": "stream",
     "text": [
      "enter set : {1, 5.34,4+5j}\n",
      "set([1, (4+5j), 5.34])\n",
      "<type 'set'>\n",
      "67854120\n"
     ]
    }
   ],
   "source": [
    "# read set data display , type, memory\n",
    "var = input(\"enter set : \")\n",
    "print var\n",
    "print type(var)\n",
    "print id(var)"
   ]
  },
  {
   "cell_type": "code",
   "execution_count": 17,
   "metadata": {},
   "outputs": [
    {
     "name": "stdout",
     "output_type": "stream",
     "text": [
      "enter dict : {12 : \"soc\" ,90:\"ss\"}\n",
      "{90: 'ss', 12: 'soc'}\n",
      "<type 'dict'>\n",
      "71570296\n"
     ]
    }
   ],
   "source": [
    "# read dict data display , type, memory\n",
    "var = input(\"enter dict : \")\n",
    "print var\n",
    "print type(var)\n",
    "print id(var)"
   ]
  },
  {
   "cell_type": "code",
   "execution_count": null,
   "metadata": {},
   "outputs": [],
   "source": []
  },
  {
   "cell_type": "code",
   "execution_count": null,
   "metadata": {},
   "outputs": [],
   "source": []
  }
 ],
 "metadata": {
  "kernelspec": {
   "display_name": "Python 2",
   "language": "python",
   "name": "python2"
  },
  "language_info": {
   "codemirror_mode": {
    "name": "ipython",
    "version": 2
   },
   "file_extension": ".py",
   "mimetype": "text/x-python",
   "name": "python",
   "nbconvert_exporter": "python",
   "pygments_lexer": "ipython2",
   "version": "2.7.16"
  }
 },
 "nbformat": 4,
 "nbformat_minor": 2
}
