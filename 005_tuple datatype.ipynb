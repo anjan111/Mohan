{
 "cells": [
  {
   "cell_type": "code",
   "execution_count": 1,
   "metadata": {},
   "outputs": [
    {
     "name": "stdout",
     "output_type": "stream",
     "text": [
      "(1, 4.2, True, (4+5j), None, 'soc', [1, 2], (1, 2), set([1, 2]), {12: 45})\n",
      "<type 'tuple'>\n"
     ]
    }
   ],
   "source": [
    "# collection elements inside of ()\n",
    "var =(1, 4.2 , True, 4+5j, None, 'soc',[1,2],(1,2),{1,2},{12:45})\n",
    "print var\n",
    "print type(var)"
   ]
  },
  {
   "cell_type": "code",
   "execution_count": 2,
   "metadata": {},
   "outputs": [
    {
     "name": "stdout",
     "output_type": "stream",
     "text": [
      "23\n",
      "8\n",
      "2\n",
      "90\n",
      "100\n"
     ]
    }
   ],
   "source": [
    "#tuple indexing \n",
    "# positive index  0 to  len -1\n",
    "var =(23, 8,2,90,100)\n",
    "print var[0]\n",
    "print var[1]\n",
    "print var[2]\n",
    "print var[3]\n",
    "print var[4]"
   ]
  },
  {
   "cell_type": "code",
   "execution_count": 3,
   "metadata": {},
   "outputs": [
    {
     "name": "stdout",
     "output_type": "stream",
     "text": [
      "100\n",
      "90\n",
      "2\n",
      "8\n",
      "23\n"
     ]
    }
   ],
   "source": [
    "#tuple indexing \n",
    "# Negative index  -1 to -len\n",
    "var =(23, 8,2,90,100)\n",
    "print var[-1]\n",
    "print var[-2]\n",
    "print var[-3]\n",
    "print var[-4]\n",
    "print var[-5]"
   ]
  },
  {
   "cell_type": "code",
   "execution_count": 5,
   "metadata": {},
   "outputs": [
    {
     "name": "stdout",
     "output_type": "stream",
     "text": [
      "(34, 78, 12, 90)\n",
      "(12, 90, 34, 78, 12, 90)\n",
      "(34, 78, 12, 90, 34)\n"
     ]
    }
   ],
   "source": [
    "# tuple slicing  --->> var[start :  stop]\n",
    "var=(12,90,34,78,12,90,34)\n",
    "print var[2:6]#(34,78,12,90)\n",
    "print var[:6]\n",
    "print var[2:]"
   ]
  },
  {
   "cell_type": "code",
   "execution_count": 6,
   "metadata": {},
   "outputs": [
    {
     "name": "stdout",
     "output_type": "stream",
     "text": [
      "(90, 89, 100)\n",
      "(12, 34, 23, 34)\n",
      "(90, 89, 100, 250)\n",
      "(90, 34, 89, 23)\n"
     ]
    }
   ],
   "source": [
    "# tuple dicing  -->>  var[ start :  stop :  step]\n",
    "var = (12,90,34,89,23,100,34,250)\n",
    "print var[1:7:2]#(90,89,100)\n",
    "print var[:7:2]# (12,34,23,34)\n",
    "print var[1::2]#(90,89,100,250)\n",
    "print var[1:5:]#(90,34,89,23)"
   ]
  },
  {
   "cell_type": "code",
   "execution_count": 7,
   "metadata": {},
   "outputs": [
    {
     "name": "stdout",
     "output_type": "stream",
     "text": [
      "(34, 89, 12)\n"
     ]
    },
    {
     "ename": "TypeError",
     "evalue": "'tuple' object does not support item assignment",
     "output_type": "error",
     "traceback": [
      "\u001b[1;31m---------------------------------------------------------------------------\u001b[0m",
      "\u001b[1;31mTypeError\u001b[0m                                 Traceback (most recent call last)",
      "\u001b[1;32m<ipython-input-7-ad552970b3ac>\u001b[0m in \u001b[0;36m<module>\u001b[1;34m()\u001b[0m\n\u001b[0;32m      2\u001b[0m \u001b[0mvar\u001b[0m \u001b[1;33m=\u001b[0m \u001b[1;33m(\u001b[0m\u001b[1;36m34\u001b[0m\u001b[1;33m,\u001b[0m\u001b[1;36m89\u001b[0m\u001b[1;33m,\u001b[0m\u001b[1;36m12\u001b[0m\u001b[1;33m)\u001b[0m\u001b[1;33m\u001b[0m\u001b[0m\n\u001b[0;32m      3\u001b[0m \u001b[1;32mprint\u001b[0m \u001b[0mvar\u001b[0m\u001b[1;33m\u001b[0m\u001b[0m\n\u001b[1;32m----> 4\u001b[1;33m \u001b[0mvar\u001b[0m\u001b[1;33m[\u001b[0m\u001b[1;36m1\u001b[0m\u001b[1;33m]\u001b[0m\u001b[1;33m=\u001b[0m\u001b[1;36m120\u001b[0m\u001b[1;33m\u001b[0m\u001b[0m\n\u001b[0m\u001b[0;32m      5\u001b[0m \u001b[1;32mprint\u001b[0m \u001b[0mvar\u001b[0m\u001b[1;33m\u001b[0m\u001b[0m\n",
      "\u001b[1;31mTypeError\u001b[0m: 'tuple' object does not support item assignment"
     ]
    }
   ],
   "source": [
    "# tuple is immutable--->. we can't modify the existing data\n",
    "var = (34,89,12)\n",
    "print var\n",
    "var[1]=120\n",
    "print var"
   ]
  },
  {
   "cell_type": "code",
   "execution_count": 8,
   "metadata": {},
   "outputs": [
    {
     "name": "stdout",
     "output_type": "stream",
     "text": [
      "(1, 2, 3, 4, 5, 6)\n",
      "(1, 2, 3, 4, 5, 6)\n"
     ]
    }
   ],
   "source": [
    "a = (1,2,3)\n",
    "b = (4,5,6)\n",
    "print a+b\n",
    "print a.__add__(b)"
   ]
  },
  {
   "cell_type": "code",
   "execution_count": 9,
   "metadata": {},
   "outputs": [
    {
     "name": "stdout",
     "output_type": "stream",
     "text": [
      "(1, 2, 3, 1, 2, 3, 1, 2, 3, 1, 2, 3)\n",
      "(1, 2, 3, 1, 2, 3, 1, 2, 3, 1, 2, 3)\n"
     ]
    }
   ],
   "source": [
    "a =(1,2,3)\n",
    "print a *4\n",
    "print a.__mul__(4)"
   ]
  },
  {
   "cell_type": "code",
   "execution_count": 10,
   "metadata": {},
   "outputs": [
    {
     "name": "stdout",
     "output_type": "stream",
     "text": [
      "True\n",
      "True\n"
     ]
    }
   ],
   "source": [
    "a = (1,2,3)\n",
    "b = 2\n",
    "print b in a\n",
    "print a.__contains__(b)"
   ]
  },
  {
   "cell_type": "code",
   "execution_count": 11,
   "metadata": {},
   "outputs": [
    {
     "name": "stdout",
     "output_type": "stream",
     "text": [
      "True\n",
      "True\n",
      "*******\n",
      "False\n",
      "False\n",
      "*******\n",
      "False\n",
      "False\n",
      "*******\n",
      "False\n",
      "False\n",
      "*******\n",
      "True\n",
      "True\n",
      "*******\n",
      "True\n",
      "True\n",
      "*******\n"
     ]
    }
   ],
   "source": [
    "a =(1,2,3)\n",
    "b =(1,2,3)\n",
    "print a == b\n",
    "print a.__eq__(b)\n",
    "print \"*******\"\n",
    "print a != b\n",
    "print a.__ne__(b)\n",
    "print \"*******\"\n",
    "print a < b\n",
    "print a.__lt__(b)\n",
    "print \"*******\"\n",
    "print a > b\n",
    "print a.__gt__(b)\n",
    "print \"*******\"\n",
    "print a <= b\n",
    "print a.__le__(b)\n",
    "print \"*******\"\n",
    "print a >= b\n",
    "print a.__ge__(b)\n",
    "print \"*******\"\n"
   ]
  },
  {
   "cell_type": "code",
   "execution_count": 12,
   "metadata": {},
   "outputs": [
    {
     "name": "stdout",
     "output_type": "stream",
     "text": [
      "['__add__', '__class__', '__contains__', '__delattr__', '__doc__', '__eq__', '__format__', '__ge__', '__getattribute__', '__getitem__', '__getnewargs__', '__getslice__', '__gt__', '__hash__', '__init__', '__iter__', '__le__', '__len__', '__lt__', '__mul__', '__ne__', '__new__', '__reduce__', '__reduce_ex__', '__repr__', '__rmul__', '__setattr__', '__sizeof__', '__str__', '__subclasshook__', 'count', 'index']\n"
     ]
    }
   ],
   "source": [
    "print dir(tuple)"
   ]
  },
  {
   "cell_type": "code",
   "execution_count": 13,
   "metadata": {},
   "outputs": [
    {
     "name": "stdout",
     "output_type": "stream",
     "text": [
      "3\n"
     ]
    }
   ],
   "source": [
    "var = (34,90,23,34,78,34)\n",
    "print var.count(34)"
   ]
  },
  {
   "cell_type": "code",
   "execution_count": 14,
   "metadata": {},
   "outputs": [
    {
     "name": "stdout",
     "output_type": "stream",
     "text": [
      "3\n"
     ]
    }
   ],
   "source": [
    "var = (4,8,3,90)\n",
    "print var.index(90)"
   ]
  },
  {
   "cell_type": "code",
   "execution_count": 15,
   "metadata": {},
   "outputs": [
    {
     "name": "stdout",
     "output_type": "stream",
     "text": [
      "89\n",
      "89\n"
     ]
    }
   ],
   "source": [
    "var = (1,89,34)\n",
    "print var[1]\n",
    "print var.__getitem__(1)"
   ]
  },
  {
   "cell_type": "code",
   "execution_count": 16,
   "metadata": {},
   "outputs": [
    {
     "name": "stdout",
     "output_type": "stream",
     "text": [
      "(8, 2)\n",
      "(8, 2)\n"
     ]
    }
   ],
   "source": [
    "var =(4,8,2,90,12)\n",
    "print var[1:3]\n",
    "print var.__getslice__(1,3)"
   ]
  },
  {
   "cell_type": "code",
   "execution_count": 17,
   "metadata": {},
   "outputs": [
    {
     "name": "stdout",
     "output_type": "stream",
     "text": [
      "(1, 5, 100, 2)\n"
     ]
    }
   ],
   "source": [
    "var = (1,5,2)\n",
    "var = list(var)\n",
    "var.insert(2,100)\n",
    "var = tuple(var)\n",
    "print var"
   ]
  },
  {
   "cell_type": "code",
   "execution_count": null,
   "metadata": {},
   "outputs": [],
   "source": []
  },
  {
   "cell_type": "code",
   "execution_count": null,
   "metadata": {},
   "outputs": [],
   "source": []
  }
 ],
 "metadata": {
  "kernelspec": {
   "display_name": "Python 2",
   "language": "python",
   "name": "python2"
  },
  "language_info": {
   "codemirror_mode": {
    "name": "ipython",
    "version": 2
   },
   "file_extension": ".py",
   "mimetype": "text/x-python",
   "name": "python",
   "nbconvert_exporter": "python",
   "pygments_lexer": "ipython2",
   "version": "2.7.16"
  }
 },
 "nbformat": 4,
 "nbformat_minor": 2
}
