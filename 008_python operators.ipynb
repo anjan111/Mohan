{
 "cells": [
  {
   "cell_type": "code",
   "execution_count": 1,
   "metadata": {},
   "outputs": [
    {
     "name": "stdout",
     "output_type": "stream",
     "text": [
      "12\n",
      "-34\n",
      "False\n",
      "-46\n",
      "33\n",
      "11\n",
      "90\n"
     ]
    }
   ],
   "source": [
    "### operators\n",
    "\n",
    "'''\n",
    "--->>> the symbols are used for to do any specific task\n",
    "\n",
    "--->>> which are used for to do the operation on operands\n",
    "'''\n",
    "# operands \n",
    "\n",
    "'''\n",
    "--->> The data with in the operation\n",
    "'''\n",
    "# The operators are 2 types based on the operands \n",
    "'''\n",
    "--->>> Unary operator\n",
    "\n",
    "        --->> A single operator operating on the single operand\n",
    "        1. unary plus   +\n",
    "        2. unary minus  -\n",
    "        3. logical not  not\n",
    "        4. bitwise not  ~\n",
    "'''\n",
    "print   + 12\n",
    "print  -34\n",
    "print not 34\n",
    "print ~ 45\n",
    "'''\n",
    "--->>> Binary operator\n",
    "\n",
    "    \n",
    "        --->> A single operator is operating two operands\n",
    "        1. addition\n",
    "        2. subtractions\n",
    "'''\n",
    "print 10 + 23\n",
    "print 34-23\n",
    "print 2*45"
   ]
  },
  {
   "cell_type": "code",
   "execution_count": 2,
   "metadata": {},
   "outputs": [
    {
     "name": "stdout",
     "output_type": "stream",
     "text": [
      "13\n",
      "9\n",
      "22\n",
      "5\n",
      "1\n"
     ]
    }
   ],
   "source": [
    "#operation\n",
    "'''\n",
    "--->> The process of solving the equaions\n",
    "'''\n",
    "#arithmetic operators\n",
    "\n",
    "# relational operation\n",
    "\n",
    "# Logical operators\n",
    "\n",
    "# Special Operators\n",
    "\n",
    "# Assignment operators\n",
    "\n",
    "# bitwise operators\n",
    "\n",
    "'''\n",
    "1. Arithmetic Operators\n",
    "\n",
    "        1. Addition     +\n",
    "        2. Subtraction  -\n",
    "        3. Multiplication *\n",
    "        4. division       /\n",
    "        5. Modulus       %\n",
    "'''\n",
    "print 11 + 2 # 13\n",
    "print 11 -2  #9\n",
    "print 11*2   #22\n",
    "print 11/2  #5\n",
    "print 11%2  #1"
   ]
  },
  {
   "cell_type": "code",
   "execution_count": 3,
   "metadata": {},
   "outputs": [
    {
     "name": "stdout",
     "output_type": "stream",
     "text": [
      "13.0\n",
      "9.0\n",
      "22.0\n",
      "5.5\n",
      "1.0\n"
     ]
    }
   ],
   "source": [
    "print 11.0 + 2 # 13\n",
    "print 11.0 -2  #9\n",
    "print 11.0*2   #22\n",
    "print 11.0/2  #5\n",
    "print 11.0%2  #1"
   ]
  },
  {
   "cell_type": "code",
   "execution_count": 4,
   "metadata": {},
   "outputs": [
    {
     "name": "stdout",
     "output_type": "stream",
     "text": [
      "24\n",
      "144\n",
      "10000\n"
     ]
    }
   ],
   "source": [
    "# exponant   **  \n",
    "# floor division  //\n",
    "print 12*2\n",
    "print 12 ** 2\n",
    "print 10 **4"
   ]
  },
  {
   "cell_type": "code",
   "execution_count": 5,
   "metadata": {},
   "outputs": [
    {
     "name": "stdout",
     "output_type": "stream",
     "text": [
      "5\n",
      "5\n"
     ]
    }
   ],
   "source": [
    "print 11/2\n",
    "print 11 //2"
   ]
  },
  {
   "cell_type": "code",
   "execution_count": 6,
   "metadata": {},
   "outputs": [
    {
     "name": "stdout",
     "output_type": "stream",
     "text": [
      "5.5\n",
      "5.0\n"
     ]
    }
   ],
   "source": [
    "print 11.0/2\n",
    "print 11.0 //2"
   ]
  },
  {
   "cell_type": "code",
   "execution_count": 7,
   "metadata": {},
   "outputs": [
    {
     "name": "stdout",
     "output_type": "stream",
     "text": [
      "True\n",
      "False\n"
     ]
    }
   ],
   "source": [
    "# relational operators\n",
    "'''\n",
    "-->> to give the relationship between any 2 inputs\n",
    "-->> we can use as a condition with in the constional\n",
    "-->> The result --->> True/ False\n",
    "\n",
    "'''\n",
    "print 10 < 20\n",
    "print 20 < 10"
   ]
  },
  {
   "cell_type": "code",
   "execution_count": 8,
   "metadata": {},
   "outputs": [
    {
     "name": "stdout",
     "output_type": "stream",
     "text": [
      "False\n",
      "True\n"
     ]
    }
   ],
   "source": [
    "print 10 > 20\n",
    "print 20 > 10"
   ]
  },
  {
   "cell_type": "code",
   "execution_count": 9,
   "metadata": {},
   "outputs": [
    {
     "name": "stdout",
     "output_type": "stream",
     "text": [
      "True\n",
      "False\n"
     ]
    }
   ],
   "source": [
    "print 10 == 10\n",
    "print 10 == 20"
   ]
  },
  {
   "cell_type": "code",
   "execution_count": 10,
   "metadata": {},
   "outputs": [
    {
     "name": "stdout",
     "output_type": "stream",
     "text": [
      "True\n",
      "True\n",
      "False\n"
     ]
    }
   ],
   "source": [
    "print 10 <= 20\n",
    "print 20 <= 20\n",
    "print 30 <= 20"
   ]
  },
  {
   "cell_type": "code",
   "execution_count": 11,
   "metadata": {},
   "outputs": [
    {
     "name": "stdout",
     "output_type": "stream",
     "text": [
      "False\n",
      "True\n",
      "True\n"
     ]
    }
   ],
   "source": [
    "print 10 >= 20\n",
    "print 20 >= 20\n",
    "print 30 >= 20"
   ]
  },
  {
   "cell_type": "code",
   "execution_count": 12,
   "metadata": {},
   "outputs": [
    {
     "name": "stdout",
     "output_type": "stream",
     "text": [
      "False\n",
      "True\n"
     ]
    }
   ],
   "source": [
    "print 10 != 10\n",
    "print 10 != 20"
   ]
  },
  {
   "cell_type": "code",
   "execution_count": 13,
   "metadata": {},
   "outputs": [
    {
     "name": "stdout",
     "output_type": "stream",
     "text": [
      "45\n",
      "0\n",
      "0.0\n"
     ]
    }
   ],
   "source": [
    "# Logical operator\n",
    "'''\n",
    "--->> Logical AND\n",
    "\n",
    "\n",
    "--->> Logical OR\n",
    "--->> Logical NOT\n",
    "'''\n",
    "# Logical AND  ---->> and\n",
    "'''\n",
    "ip1  and ip2 --->> ip1/ ip2\n",
    "\n",
    "res --->> ip1  ,   ip1 ---->> False case\n",
    "res  -->> ip2  ,   ip1 ---->> True case\n",
    "'''\n",
    "print 23 and 45  # 45\n",
    "print 0 and 34.2\n",
    "print 0.000 and 45.33"
   ]
  },
  {
   "cell_type": "code",
   "execution_count": 14,
   "metadata": {},
   "outputs": [
    {
     "name": "stdout",
     "output_type": "stream",
     "text": [
      "23\n",
      "34.2\n",
      "45.33\n"
     ]
    }
   ],
   "source": [
    "# Logical OR  ---->> or\n",
    "'''\n",
    "ip1  or ip2 --->> ip1/ ip2\n",
    "\n",
    "res --->> ip2  ,   ip1 ---->> False case\n",
    "res  -->> ip1  ,   ip1 ---->> True case\n",
    "'''\n",
    "print 23 or 45  # 23\n",
    "print 0 or 34.2 # 34.2\n",
    "print 0.000 or 45.33# 45.33"
   ]
  },
  {
   "cell_type": "code",
   "execution_count": 1,
   "metadata": {},
   "outputs": [
    {
     "name": "stdout",
     "output_type": "stream",
     "text": [
      "False\n",
      "True\n"
     ]
    }
   ],
   "source": [
    "# logical not  --->> not\n",
    "print not 56 # False\n",
    "print not 0 # True"
   ]
  },
  {
   "cell_type": "code",
   "execution_count": 2,
   "metadata": {},
   "outputs": [
    {
     "name": "stdout",
     "output_type": "stream",
     "text": [
      "123\n",
      "123\n",
      "246\n"
     ]
    }
   ],
   "source": [
    "# assignment operator\n",
    "'''\n",
    "To assign the data from right side to left side of variable\n",
    "'''\n",
    "var =123# constant to variable\n",
    "a = var# variable to variable\n",
    "c = a +var # expression to variable\n",
    "print var\n",
    "print a\n",
    "print c"
   ]
  },
  {
   "cell_type": "code",
   "execution_count": 3,
   "metadata": {},
   "outputs": [
    {
     "name": "stdout",
     "output_type": "stream",
     "text": [
      "10\n",
      "20\n",
      "30\n",
      "20\n"
     ]
    }
   ],
   "source": [
    "# compound assignment\n",
    "a = 10\n",
    "b = 20\n",
    "print a\n",
    "print b\n",
    "a = a+b # operation then update\n",
    "print a\n",
    "print b"
   ]
  },
  {
   "cell_type": "code",
   "execution_count": 4,
   "metadata": {},
   "outputs": [
    {
     "name": "stdout",
     "output_type": "stream",
     "text": [
      "10\n",
      "20\n",
      "30\n",
      "20\n"
     ]
    }
   ],
   "source": [
    "a = 10\n",
    "b = 20\n",
    "print a\n",
    "print b\n",
    "a += b # addition then update --->>  a = a+b\n",
    "print a\n",
    "print b"
   ]
  },
  {
   "cell_type": "code",
   "execution_count": 5,
   "metadata": {},
   "outputs": [
    {
     "name": "stdout",
     "output_type": "stream",
     "text": [
      "10\n",
      "20\n",
      "-10\n",
      "20\n"
     ]
    }
   ],
   "source": [
    "a = 10\n",
    "b = 20\n",
    "print a\n",
    "print b\n",
    "a -= b # subtraction then update --->>  a = a-b\n",
    "print a\n",
    "print b"
   ]
  },
  {
   "cell_type": "code",
   "execution_count": 6,
   "metadata": {},
   "outputs": [
    {
     "name": "stdout",
     "output_type": "stream",
     "text": [
      "10\n",
      "20\n",
      "200\n",
      "20\n"
     ]
    }
   ],
   "source": [
    "a = 10\n",
    "b = 20\n",
    "print a\n",
    "print b\n",
    "a *= b # multiplication then update --->>  a = a*b\n",
    "print a\n",
    "print b"
   ]
  },
  {
   "cell_type": "code",
   "execution_count": 7,
   "metadata": {},
   "outputs": [
    {
     "name": "stdout",
     "output_type": "stream",
     "text": [
      "10\n",
      "20\n",
      "0\n",
      "20\n"
     ]
    }
   ],
   "source": [
    "a = 10\n",
    "b = 20\n",
    "print a\n",
    "print b\n",
    "a /= b # division then update --->>  a = a/b\n",
    "print a\n",
    "print b"
   ]
  },
  {
   "cell_type": "code",
   "execution_count": 8,
   "metadata": {},
   "outputs": [
    {
     "name": "stdout",
     "output_type": "stream",
     "text": [
      "10\n",
      "20\n",
      "10\n",
      "20\n"
     ]
    }
   ],
   "source": [
    "a = 10\n",
    "b = 20\n",
    "print a\n",
    "print b\n",
    "a %= b # addition then update --->>  a = a%b\n",
    "print a\n",
    "print b"
   ]
  },
  {
   "cell_type": "code",
   "execution_count": 10,
   "metadata": {},
   "outputs": [
    {
     "name": "stdout",
     "output_type": "stream",
     "text": [
      "True\n",
      "False\n",
      "False\n",
      "True\n"
     ]
    }
   ],
   "source": [
    "# special operator\n",
    "'''\n",
    "--->> membership operator --->> to check the availability\n",
    "\n",
    "     in\n",
    "      True --->> avaiable\n",
    "      False -->> not\n",
    "     \n",
    "     not in\n",
    "            True --->> not  avaiable\n",
    "             False -->> avaiable\n",
    "     \n",
    "-->>> identity operator\n",
    "'''\n",
    "a = 34\n",
    "b = [45,34,67]\n",
    "c = 100\n",
    "print a in b # True\n",
    "print c in b # False\n",
    "print a not in b # False\n",
    "print c not in b# True"
   ]
  },
  {
   "cell_type": "code",
   "execution_count": 13,
   "metadata": {},
   "outputs": [
    {
     "name": "stdout",
     "output_type": "stream",
     "text": [
      "44007424\n",
      "44007424\n",
      "True\n",
      "False\n"
     ]
    }
   ],
   "source": [
    "# identity operator --->> check the memory loc\n",
    "'''\n",
    "is\n",
    "  True ----->> same\n",
    "  False---->> not same\n",
    "\n",
    "is not\n",
    "\n",
    "    True --->> not same\n",
    "    False--->> same\n",
    "'''\n",
    "a = 10\n",
    "b = 10\n",
    "print id(a)\n",
    "print id(b)\n",
    "print a is b\n",
    "print a is not b"
   ]
  },
  {
   "cell_type": "code",
   "execution_count": 14,
   "metadata": {},
   "outputs": [
    {
     "name": "stdout",
     "output_type": "stream",
     "text": [
      "77159816\n",
      "78247496\n",
      "False\n",
      "True\n"
     ]
    }
   ],
   "source": [
    "a = [10,20,30]\n",
    "b = [10,20,30]\n",
    "print id(a)\n",
    "print id(b)\n",
    "print a is b\n",
    "print a is not b"
   ]
  },
  {
   "cell_type": "code",
   "execution_count": 15,
   "metadata": {},
   "outputs": [
    {
     "name": "stdout",
     "output_type": "stream",
     "text": [
      "enter character : 'e'\n",
      "e  is vowel  True\n"
     ]
    }
   ],
   "source": [
    "# wap given character is vowel or not \n",
    "char = input(\"enter character : \")\n",
    "vowel =\"aeiouAEIOU\"\n",
    "print char,\" is vowel \",char in vowel"
   ]
  },
  {
   "cell_type": "code",
   "execution_count": 17,
   "metadata": {},
   "outputs": [
    {
     "name": "stdout",
     "output_type": "stream",
     "text": [
      "0b111000\n",
      "90\n"
     ]
    }
   ],
   "source": [
    "#### bitwise operators\n",
    "'''\n",
    "---->> we should know how to convert \n",
    "            --->> decimal  --->> binary\n",
    "            --->> binary to decimal \n",
    "\n",
    "'''\n",
    "# 56 ---->> tell me binary data of 56 decimal number\n",
    "#  1 0 1  1  0  1 0 ---->> tell me decimal number\n",
    "print bin(56)\n",
    "print int(0b1011010)"
   ]
  },
  {
   "cell_type": "code",
   "execution_count": 19,
   "metadata": {},
   "outputs": [
    {
     "name": "stdout",
     "output_type": "stream",
     "text": [
      "15\n"
     ]
    }
   ],
   "source": [
    "# bitwise or            |\n",
    "# bitwise and           &\n",
    "# bitwise not           ~\n",
    "# bitwise xor           ^\n",
    "# bitwise leftshft       <<\n",
    "# bitwise right shift    >>\n",
    "a = 10\n",
    "b = 13\n",
    "print a | b"
   ]
  },
  {
   "cell_type": "code",
   "execution_count": 20,
   "metadata": {},
   "outputs": [
    {
     "name": "stdout",
     "output_type": "stream",
     "text": [
      "8\n"
     ]
    }
   ],
   "source": [
    "a = 10\n",
    "b = 13\n",
    "print a & b"
   ]
  },
  {
   "cell_type": "code",
   "execution_count": 21,
   "metadata": {},
   "outputs": [
    {
     "name": "stdout",
     "output_type": "stream",
     "text": [
      "7\n"
     ]
    }
   ],
   "source": [
    "a = 10\n",
    "b = 13\n",
    "print a ^ b"
   ]
  },
  {
   "cell_type": "code",
   "execution_count": 1,
   "metadata": {},
   "outputs": [
    {
     "name": "stdout",
     "output_type": "stream",
     "text": [
      "96\n"
     ]
    }
   ],
   "source": [
    "a  = 12\n",
    "b = 3\n",
    "print a  << b"
   ]
  },
  {
   "cell_type": "code",
   "execution_count": 2,
   "metadata": {},
   "outputs": [
    {
     "name": "stdout",
     "output_type": "stream",
     "text": [
      "1\n",
      "3\n"
     ]
    }
   ],
   "source": [
    "a = 12\n",
    "b = 3\n",
    "print a >> b\n",
    "a = 56\n",
    "b = 4\n",
    "print a >> b"
   ]
  },
  {
   "cell_type": "code",
   "execution_count": 4,
   "metadata": {},
   "outputs": [
    {
     "name": "stdout",
     "output_type": "stream",
     "text": [
      "-13\n",
      "-57\n"
     ]
    }
   ],
   "source": [
    "# bitwise not operators \n",
    "print ~ 12\n",
    "print ~ 56"
   ]
  },
  {
   "cell_type": "code",
   "execution_count": 5,
   "metadata": {},
   "outputs": [
    {
     "name": "stdout",
     "output_type": "stream",
     "text": [
      "-35\n"
     ]
    }
   ],
   "source": [
    "a =  34\n",
    "print ~ a"
   ]
  },
  {
   "cell_type": "code",
   "execution_count": null,
   "metadata": {},
   "outputs": [],
   "source": [
    "#wap find the given number is even or not using bitwise operators\n",
    "#wap toggle the 6th bit position of any number\n",
    "#wap clear the specific bit position of a number\n",
    "#wap set  the  specific bit position of a number\n",
    "# wap find the given number power of 2 or not "
   ]
  },
  {
   "cell_type": "code",
   "execution_count": 7,
   "metadata": {},
   "outputs": [
    {
     "name": "stdout",
     "output_type": "stream",
     "text": [
      "enter a number : 12\n",
      "enter a bit position : 3\n",
      "True\n"
     ]
    }
   ],
   "source": [
    "#wap find the 5th bit poisiton of number is 0 or 1\n",
    "num = input(\"enter a number : \")\n",
    "bit = input(\"enter a bit position : \")\n",
    "print num &(1 << bit) !=0"
   ]
  },
  {
   "cell_type": "code",
   "execution_count": null,
   "metadata": {},
   "outputs": [],
   "source": []
  },
  {
   "cell_type": "code",
   "execution_count": null,
   "metadata": {},
   "outputs": [],
   "source": []
  },
  {
   "cell_type": "code",
   "execution_count": null,
   "metadata": {},
   "outputs": [],
   "source": []
  }
 ],
 "metadata": {
  "kernelspec": {
   "display_name": "Python 2",
   "language": "python",
   "name": "python2"
  },
  "language_info": {
   "codemirror_mode": {
    "name": "ipython",
    "version": 2
   },
   "file_extension": ".py",
   "mimetype": "text/x-python",
   "name": "python",
   "nbconvert_exporter": "python",
   "pygments_lexer": "ipython2",
   "version": "2.7.16"
  }
 },
 "nbformat": 4,
 "nbformat_minor": 2
}
