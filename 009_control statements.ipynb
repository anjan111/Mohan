{
 "cells": [
  {
   "cell_type": "markdown",
   "metadata": {},
   "source": [
    "# Program \n",
    "\n",
    "---->> Collection of statements to do any one specific task\n",
    "\n",
    "---->>  Statements   is executable instruction\n",
    "\n",
    "# The flow of execution of the program\n",
    "\n",
    "-->>>  Statement after statement \n",
    "\n",
    "## Control statements\n",
    "\n",
    "---->>> We can change the flow of the execution of the program\n",
    "\n",
    "1. Conditional Statements\n",
    "\n",
    "2. Looping statements\n",
    "\n",
    "3. Control keywords\n",
    "\n",
    "#### Conditional Statament\n",
    "\n",
    "--->>> The execution of the statements are depending on the condition\n",
    "\n",
    "1. simple if \n",
    "\n",
    "2. if & else\n",
    "\n",
    "3. elif ladder\n",
    "\n",
    "4. Nested if\n",
    "\n",
    "#### Simple if \n",
    "\n",
    "\n",
    "if Condition :\n",
    "    \n",
    "    Statement1\n",
    "    \n",
    "    ----------\n",
    "    \n",
    "    ----------\n",
    " \n",
    "outoff of if "
   ]
  },
  {
   "cell_type": "code",
   "execution_count": 2,
   "metadata": {},
   "outputs": [
    {
     "name": "stdout",
     "output_type": "stream",
     "text": [
      "enter age of you 23\n",
      "Your eligible for applying the voter id \n",
      "enter name :\"anjan\"\n",
      "enter DOB  : \"26 - 01 - 1994\"\n",
      "enter phone no : 964098960\n",
      "Thanks for visiting the voter id center\n",
      "simple if block is over\n"
     ]
    }
   ],
   "source": [
    "# wap for applying the voter id application\n",
    "age = input(\"enter age of you \")\n",
    "con = age >= 18\n",
    "if con :\n",
    "    print \"Your eligible for applying the voter id \"\n",
    "    name = input(\"enter name :\")\n",
    "    DOB  = input(\"enter DOB  : \")\n",
    "    phone = input(\"enter phone no : \")\n",
    "print \"Thanks for visiting the voter id center\"\n",
    "print \"simple if block is over\""
   ]
  },
  {
   "cell_type": "code",
   "execution_count": 5,
   "metadata": {},
   "outputs": [
    {
     "name": "stdout",
     "output_type": "stream",
     "text": [
      "enter side of square in meter : 5.6\n",
      "enter radius of circle in meter : 8\n",
      "perimter of sqaure  :  22.4  meters\n"
     ]
    }
   ],
   "source": [
    "# wap find the area of circle when the perimter of square is even \n",
    "side = input(\"enter side of square in meter : \")\n",
    "rad = input(\"enter radius of circle in meter : \")\n",
    "peri = 4 * side\n",
    "if(peri % 2 == 0):\n",
    "    pi = 22.0/7\n",
    "    area = pi* (rad ** 2)\n",
    "    print \"area of circle : \",area,\" sq meter\"\n",
    "print \"perimter of sqaure  : \",peri ,\" meters\""
   ]
  },
  {
   "cell_type": "code",
   "execution_count": 7,
   "metadata": {},
   "outputs": [
    {
     "name": "stdout",
     "output_type": "stream",
     "text": [
      "enter only single character : 'e'\n",
      "e  is vowel\n"
     ]
    }
   ],
   "source": [
    "# if and else \n",
    "'''\n",
    "if(condition):\n",
    "    Task1\n",
    "    -----\n",
    "    -----\n",
    "else :\n",
    "    Task2\n",
    "    -----\n",
    "    -----\n",
    "'''\n",
    "# wap print the given character id vowel or  consonant\n",
    "char = input(\"enter only single character : \")\n",
    "vowel = \"aeiouAEIOU\"\n",
    "if(char in vowel):\n",
    "    print char,\" is vowel\"\n",
    "else:\n",
    "    print char ,\"is consonant\""
   ]
  },
  {
   "cell_type": "code",
   "execution_count": null,
   "metadata": {},
   "outputs": [],
   "source": [
    "# wap for finding the simple intrest  or compound intrest based on use input\n",
    "\n",
    "'''\n",
    "if cond :\n",
    "    simple\n",
    "\n",
    "else:\n",
    "    compound\n",
    "'''"
   ]
  },
  {
   "cell_type": "code",
   "execution_count": null,
   "metadata": {},
   "outputs": [],
   "source": []
  }
 ],
 "metadata": {
  "kernelspec": {
   "display_name": "Python 2",
   "language": "python",
   "name": "python2"
  },
  "language_info": {
   "codemirror_mode": {
    "name": "ipython",
    "version": 2
   },
   "file_extension": ".py",
   "mimetype": "text/x-python",
   "name": "python",
   "nbconvert_exporter": "python",
   "pygments_lexer": "ipython2",
   "version": "2.7.16"
  }
 },
 "nbformat": 4,
 "nbformat_minor": 2
}
