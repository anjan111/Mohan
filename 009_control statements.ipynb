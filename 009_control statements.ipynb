{
 "cells": [
  {
   "cell_type": "markdown",
   "metadata": {},
   "source": [
    "# Program \n",
    "\n",
    "---->> Collection of statements to do any one specific task\n",
    "\n",
    "---->>  Statements   is executable instruction\n",
    "\n",
    "# The flow of execution of the program\n",
    "\n",
    "-->>>  Statement after statement \n",
    "\n",
    "## Control statements\n",
    "\n",
    "---->>> We can change the flow of the execution of the program\n",
    "\n",
    "1. Conditional Statements\n",
    "\n",
    "2. Looping statements\n",
    "\n",
    "3. Control keywords\n",
    "\n",
    "#### Conditional Statament\n",
    "\n",
    "--->>> The execution of the statements are depending on the condition\n",
    "\n",
    "1. simple if \n",
    "\n",
    "2. if & else\n",
    "\n",
    "3. elif ladder\n",
    "\n",
    "4. Nested if\n",
    "\n",
    "#### Simple if \n",
    "\n",
    "\n",
    "if Condition :\n",
    "    \n",
    "    Statement1\n",
    "    \n",
    "    ----------\n",
    "    \n",
    "    ----------\n",
    " \n",
    "outoff of if "
   ]
  },
  {
   "cell_type": "code",
   "execution_count": null,
   "metadata": {},
   "outputs": [],
   "source": [
    "# wap for applying the voter id application\n",
    "age = input(\"enter age of you \")\n",
    "con = age >= 18\n",
    "if con :\n",
    "    print \"Your eligible for applying the voter id \"\n",
    "    name = input(\"enter name :\")\n",
    "    DOB  = input(\"enter DOB  : \")\n",
    "    phone = input(\"enter phone no : \")\n",
    "print \"Thanks for visiting the voter id center\"\n",
    "print \"simple if block is over\""
   ]
  },
  {
   "cell_type": "code",
   "execution_count": null,
   "metadata": {},
   "outputs": [],
   "source": [
    "# wap find the area of circle when the perimter of square is even \n",
    "side = input(\"enter side of square in meter : \")\n",
    "rad = input(\"enter radius of circle in meter : \")\n",
    "peri = 4 * side\n",
    "if(peri % 2 == 0):\n",
    "    pi = 22.0/7\n",
    "    area = pi* (rad ** 2)\n",
    "    print \"area of circle : \",area,\" sq meter\"\n",
    "print \"perimter of sqaure  : \",peri ,\" meters\""
   ]
  },
  {
   "cell_type": "code",
   "execution_count": null,
   "metadata": {},
   "outputs": [],
   "source": [
    "# if and else \n",
    "'''\n",
    "if(condition):\n",
    "    Task1\n",
    "    -----\n",
    "    -----\n",
    "else :\n",
    "    Task2\n",
    "    -----\n",
    "    -----\n",
    "'''\n",
    "# wap print the given character id vowel or  consonant\n",
    "char = input(\"enter only single character : \")\n",
    "vowel = \"aeiouAEIOU\"\n",
    "if(char in vowel):\n",
    "    print char,\" is vowel\"\n",
    "else:\n",
    "    print char ,\"is consonant\""
   ]
  },
  {
   "cell_type": "code",
   "execution_count": null,
   "metadata": {},
   "outputs": [],
   "source": [
    "# elif ladder \n",
    "'''\n",
    "if ( C1):\n",
    "    T1\n",
    "elif(C2):\n",
    "    T2\n",
    "elif(C3):\n",
    "    T3\n",
    "elif(C4):\n",
    "    T4\n",
    "------\n",
    "-----\n",
    "else:\n",
    "    Td\n",
    "'''\n",
    "# wap fix the salary based on exeprience \n",
    "exp = input(\"enter exp in years : \")\n",
    "if(exp >0 and exp <=2):\n",
    "    print  \"for \",exp,\" years of exp the salary is 3.2L PA \"\n",
    "elif(exp>2 and exp <= 4):\n",
    "    print  \"for \",exp,\" years of exp the salary is 6.2L PA \"\n",
    "elif(exp >4 and exp <=8):\n",
    "    print  \"for \",exp,\" years of exp the salary is 10L PA \"\n",
    "elif(exp >8 and exp <=15):\n",
    "    print  \"for \",exp,\" years of exp the salary is 20L PA \"\n",
    "elif(exp >15):\n",
    "    print  \"for \",exp,\" years of exp the salary is 25L PA \"\n",
    "else:\n",
    "    print \"please enter proper exp\""
   ]
  },
  {
   "cell_type": "code",
   "execution_count": null,
   "metadata": {},
   "outputs": [],
   "source": [
    "# wap fix the grade based on student percentage"
   ]
  },
  {
   "cell_type": "code",
   "execution_count": null,
   "metadata": {},
   "outputs": [],
   "source": [
    "# nested if \n",
    "'''\n",
    "if any one conditional block it might contains one more conditional block\n",
    "\n",
    "if :\n",
    "   if/ elif/ if& else\n",
    "elif:\n",
    "    if/ elif/ if& else\n",
    "else:\n",
    "    if/ elif / if & else\n",
    "    \n",
    "'''\n",
    "# wap find the smallest number from 3 numbers \n",
    "a = input(\"enter a : \")\n",
    "b = input(\"enter b : \")\n",
    "c = input(\"enter c : \")\n",
    "if(a < b):\n",
    "    small = a\n",
    "    if(small > c):\n",
    "        small = c\n",
    "else:\n",
    "    small = b\n",
    "    if(small > c):\n",
    "        small = c\n",
    "print \"small : \",small\n"
   ]
  },
  {
   "cell_type": "code",
   "execution_count": null,
   "metadata": {},
   "outputs": [],
   "source": [
    "# wap print given single character is vowel, or consonant , digit, or special character\n",
    "# \"we\"--->> please enter single character\n",
    "# 45 ---->> please enter str daatatype\n",
    "# '2'---->> its digit\n",
    "# '&'---->> its special character\n",
    "# 'e'---->> its vowel\n",
    "# 'T' --->> its consonant\n"
   ]
  },
  {
   "cell_type": "code",
   "execution_count": null,
   "metadata": {},
   "outputs": [],
   "source": [
    "# Looping statements\n",
    "'''\n",
    "Task\n",
    "Task\n",
    "Task\n",
    "Task\n",
    "----\n",
    "----\n",
    "----\n",
    "\n",
    "'''\n",
    "# we can reduce the code size\n",
    "# wa can understand easly\n",
    "'''\n",
    "---->> while loop\n",
    "---->> for loop\n",
    "'''\n",
    "# while\n",
    "'''\n",
    "Start\n",
    "-----\n",
    "while ( Cond ):\n",
    "    Task\n",
    "    ----\n",
    "    ----\n",
    "    ----\n",
    "else: (optional)\n",
    "    Task\n",
    "    -----\n",
    "    -----\n",
    "stop\n",
    "----\n",
    "----\n",
    "'''\n",
    "# wap print 1 to N natural number\n",
    "# N ----->>> 10\n",
    "'''\n",
    "1   2    3    4   5   6   7   8   9   10\n",
    "'''\n",
    "N = input(\"enter N : \")\n",
    "i = 1\n",
    "while( i <= N):\n",
    "    print i,\"    \",\n",
    "    i = i + 1\n",
    "print \"\\nstop\""
   ]
  },
  {
   "cell_type": "code",
   "execution_count": null,
   "metadata": {},
   "outputs": [],
   "source": [
    "# wap sum of the 1st N natural numbers\n",
    "N = input(\"enter N : \")\n",
    "i = 1\n",
    "sum = 0\n",
    "while( i <= N):\n",
    "    print i,\" + \",\n",
    "    sum += i  # sum  =  sum +  i\n",
    "    i += 1  #i = i+ 1\n",
    "else:\n",
    "    print \"\\nsum \",sum\n",
    "print \"\\nstop\""
   ]
  },
  {
   "cell_type": "code",
   "execution_count": null,
   "metadata": {},
   "outputs": [],
   "source": [
    "# wap find the sum of sqaure of a 1st N natural number\n",
    "# 10\n",
    "# 1^2 + 2^2 + 3^2 ------- +10^2 =====>>> "
   ]
  },
  {
   "cell_type": "code",
   "execution_count": null,
   "metadata": {},
   "outputs": [],
   "source": [
    "# wap find the factorial of number \n",
    "# 5 --->> 1 * 2*3*4*5 --->> 120\n",
    "# \"sf\"-->> please enter int\n",
    "# -45 ---> please enter positive \n",
    "# 0 , 1 -->> 1\n"
   ]
  },
  {
   "cell_type": "code",
   "execution_count": null,
   "metadata": {},
   "outputs": [],
   "source": [
    "# wap find the no of factors of a number\n",
    "# 10 ---->> 1   2    5   10 ----->> 4\n",
    "num = input(\"enter a number : \")\n",
    "i = 1\n",
    "count = 0\n",
    "while( i <= num):\n",
    "    if(num % i ==0):\n",
    "        print \"factor : \",i\n",
    "        count += 1\n",
    "    i += 1\n",
    "else:\n",
    "    print \"no of factors: \",count"
   ]
  },
  {
   "cell_type": "code",
   "execution_count": null,
   "metadata": {},
   "outputs": [],
   "source": [
    "# wap find the sum  of factors of a number\n",
    "# 10 ---->> 1  + 2  +  5  + 10 ----->>18\n",
    "# wap given number is prime number or not "
   ]
  },
  {
   "cell_type": "code",
   "execution_count": 1,
   "metadata": {},
   "outputs": [
    {
     "name": "stdout",
     "output_type": "stream",
     "text": [
      "enter no of fibonic elements : 10\n",
      "0     1     1     2     3     5     8     13     21     34     \n",
      "stop\n"
     ]
    }
   ],
   "source": [
    "# wap generate the N no of  fibonic series elements\n",
    "#  0   1   1    2   3    5   8   13   21    34\n",
    "n = input(\"enter no of fibonic elements : \")\n",
    "a = 0\n",
    "b = 1\n",
    "i = 1\n",
    "while(i <= n):\n",
    "    print a,\"   \",\n",
    "    c = a+b\n",
    "    a = b\n",
    "    b = c\n",
    "    i += 1\n",
    "print \"\\nstop\""
   ]
  },
  {
   "cell_type": "code",
   "execution_count": null,
   "metadata": {},
   "outputs": [],
   "source": []
  }
 ],
 "metadata": {
  "kernelspec": {
   "display_name": "Python 2",
   "language": "python",
   "name": "python2"
  },
  "language_info": {
   "codemirror_mode": {
    "name": "ipython",
    "version": 2
   },
   "file_extension": ".py",
   "mimetype": "text/x-python",
   "name": "python",
   "nbconvert_exporter": "python",
   "pygments_lexer": "ipython2",
   "version": "2.7.16"
  }
 },
 "nbformat": 4,
 "nbformat_minor": 2
}
