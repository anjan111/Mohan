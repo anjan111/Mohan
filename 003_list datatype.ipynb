{
 "cells": [
  {
   "cell_type": "code",
   "execution_count": 8,
   "metadata": {},
   "outputs": [
    {
     "name": "stdout",
     "output_type": "stream",
     "text": [
      "[12, 1.2, (3+4j), True, None, 'soc', [1, 2, 3], (1, 2, 3), set([1, 2, 3]), {1: 34}]\n",
      "<type 'list'>\n"
     ]
    }
   ],
   "source": [
    "# list  --->>>   [ ]\n",
    "# list is hetrogenious datatypes\n",
    "var = [12 , 1.2 , 3+4j , True, None , \"soc\",[1,2,3],(1,2,3),{1,2,3},{1:34}]\n",
    "print var\n",
    "print type(var)"
   ]
  },
  {
   "cell_type": "code",
   "execution_count": 2,
   "metadata": {},
   "outputs": [
    {
     "name": "stdout",
     "output_type": "stream",
     "text": [
      "[12, 1.2, (3+4j), True, None, 'soc', [1, 2, 3], (1, 2, 3), set([1, 2, 3]), {1: 34}]\n",
      "positive index\n",
      "12\n",
      "1.2\n",
      "(3+4j)\n",
      "True\n",
      "None\n",
      "{1: 34}\n",
      "negative indexing \n",
      "{1: 34}\n",
      "set([1, 2, 3])\n",
      "(1, 2, 3)\n",
      "[1, 2, 3]\n",
      "soc\n",
      "12\n"
     ]
    }
   ],
   "source": [
    "# list index \n",
    "# positive index  --->>  0 ---> len-1\n",
    "# negative index  --->>  -1  -->>  - len\n",
    "var = [12 , 1.2 , 3+4j , True, None , \"soc\",[1,2,3],(1,2,3),{1,2,3},{1:34}]\n",
    "print var\n",
    "print \"positive index\"\n",
    "print var[0]\n",
    "print var[1]\n",
    "print var[2]\n",
    "print var[3]\n",
    "print var[4]\n",
    "print var[9]\n",
    "\n",
    "print \"negative indexing \"\n",
    "print var[-1]\n",
    "print var[-2]\n",
    "print var[-3]\n",
    "print var[-4]\n",
    "print var[-5]\n",
    "print var[-10]\n",
    "\n"
   ]
  },
  {
   "cell_type": "code",
   "execution_count": 3,
   "metadata": {},
   "outputs": [
    {
     "name": "stdout",
     "output_type": "stream",
     "text": [
      "[12, 1.2, (3+4j), True, None, 'soc', [1, 2, 3], (1, 2, 3), set([1, 2, 3]), {1: 34}]\n",
      "[True, None, 'soc', [1, 2, 3]]\n",
      "[12, 1.2, (3+4j), True, None, 'soc', [1, 2, 3]]\n",
      "[True, None, 'soc', [1, 2, 3], (1, 2, 3), set([1, 2, 3]), {1: 34}]\n"
     ]
    }
   ],
   "source": [
    "# list slicing  --->> var[start_index : stop_index]\n",
    "var = [12 , 1.2 , 3+4j , True, None , \"soc\",[1,2,3],(1,2,3),{1,2,3},{1:34}]\n",
    "print var\n",
    "print var[3:7]\n",
    "print var[:7]\n",
    "print var[3:]"
   ]
  },
  {
   "cell_type": "code",
   "execution_count": 7,
   "metadata": {},
   "outputs": [
    {
     "name": "stdout",
     "output_type": "stream",
     "text": [
      "[1.2, None, (1, 2, 3)]\n",
      "[1.2, (3+4j), True, None, 'soc', [1, 2, 3], (1, 2, 3), set([1, 2, 3])]\n",
      "[12, True, [1, 2, 3]]\n",
      "[1.2, None, (1, 2, 3)]\n"
     ]
    }
   ],
   "source": [
    "#list dicing   var[  start  :  stop  :  step]\n",
    "var = [12 , 1.2 , 3+4j , True, None , \"soc\",[1,2,3],(1,2,3),{1,2,3},{1:34}]\n",
    "print var[1:9:3]\n",
    "print var[1:9:]\n",
    "print var[:9:3]\n",
    "print var[1::3]"
   ]
  },
  {
   "cell_type": "code",
   "execution_count": 9,
   "metadata": {},
   "outputs": [
    {
     "name": "stdout",
     "output_type": "stream",
     "text": [
      "[12, 1.2, (3+4j), True, None, 'soc', [1, 2, 3], (1, 2, 3), set([1, 2, 3]), {1: 34}]\n",
      "None\n",
      "[12, 1.2, (3+4j), True, '345', 'soc', [1, 2, 3], (1, 2, 3), set([1, 2, 3]), {1: 34}]\n"
     ]
    }
   ],
   "source": [
    "# list is mutable datatype\n",
    "var = [12 , 1.2 , 3+4j , True, None , \"soc\",[1,2,3],(1,2,3),{1,2,3},{1:34}]\n",
    "print var\n",
    "print var[4]\n",
    "var[4]=\"345\"\n",
    "print var"
   ]
  },
  {
   "cell_type": "code",
   "execution_count": 11,
   "metadata": {},
   "outputs": [
    {
     "name": "stdout",
     "output_type": "stream",
     "text": [
      "[1, 2, 3, 4, 9, 3, 7]\n",
      "[1, 2, 3, 4, 1, 2, 3, 4, 1, 2, 3, 4, 1, 2, 3, 4]\n",
      "True\n"
     ]
    }
   ],
   "source": [
    "a = [1,2,3,4]\n",
    "b = [9,3,7]\n",
    "print a+b\n",
    "print a * 4\n",
    "print 3 in a"
   ]
  },
  {
   "cell_type": "code",
   "execution_count": 12,
   "metadata": {},
   "outputs": [
    {
     "name": "stdout",
     "output_type": "stream",
     "text": [
      "[12, 1.2, True, None, 'soc', [1, 2, 3], (1, 2, 3), set([1, 2, 3]), {1: 34}]\n",
      "9\n",
      "(1, 2, 3)\n",
      "None\n"
     ]
    }
   ],
   "source": [
    "var = [12 , 1.2 , True, None , \"soc\",[1,2,3],(1,2,3),{1,2,3},{1:34}]\n",
    "print var\n",
    "print len(var)\n",
    "print max(var)\n",
    "print min(var)\n"
   ]
  },
  {
   "cell_type": "code",
   "execution_count": 13,
   "metadata": {},
   "outputs": [
    {
     "name": "stdout",
     "output_type": "stream",
     "text": [
      "4\n",
      "9\n",
      "1\n",
      "18\n"
     ]
    }
   ],
   "source": [
    "var = [5,3,9,1]\n",
    "print len(var)\n",
    "print max(var)\n",
    "print min(var)\n",
    "print sum(var)"
   ]
  },
  {
   "cell_type": "code",
   "execution_count": 14,
   "metadata": {},
   "outputs": [
    {
     "name": "stdout",
     "output_type": "stream",
     "text": [
      "[1, 4, 5]\n",
      "[1, 4, 5, 6]\n",
      "[1, 4, 5, 6, 10]\n"
     ]
    }
   ],
   "source": [
    "var = [1,4,5]\n",
    "print var\n",
    "var.append(6)\n",
    "print var\n",
    "var.append(10)\n",
    "print var"
   ]
  },
  {
   "cell_type": "code",
   "execution_count": 15,
   "metadata": {},
   "outputs": [
    {
     "name": "stdout",
     "output_type": "stream",
     "text": [
      "[1, 4, 5]\n"
     ]
    },
    {
     "ename": "AttributeError",
     "evalue": "'list' object has no attribute 'clear'",
     "output_type": "error",
     "traceback": [
      "\u001b[1;31m---------------------------------------------------------------------------\u001b[0m",
      "\u001b[1;31mAttributeError\u001b[0m                            Traceback (most recent call last)",
      "\u001b[1;32m<ipython-input-15-952a0b852128>\u001b[0m in \u001b[0;36m<module>\u001b[1;34m()\u001b[0m\n\u001b[0;32m      1\u001b[0m \u001b[0mvar\u001b[0m \u001b[1;33m=\u001b[0m \u001b[1;33m[\u001b[0m\u001b[1;36m1\u001b[0m\u001b[1;33m,\u001b[0m\u001b[1;36m4\u001b[0m\u001b[1;33m,\u001b[0m\u001b[1;36m5\u001b[0m\u001b[1;33m]\u001b[0m\u001b[1;33m\u001b[0m\u001b[0m\n\u001b[0;32m      2\u001b[0m \u001b[1;32mprint\u001b[0m \u001b[0mvar\u001b[0m\u001b[1;33m\u001b[0m\u001b[0m\n\u001b[1;32m----> 3\u001b[1;33m \u001b[0mvar\u001b[0m\u001b[1;33m.\u001b[0m\u001b[0mclear\u001b[0m\u001b[1;33m(\u001b[0m\u001b[1;33m)\u001b[0m\u001b[1;33m\u001b[0m\u001b[0m\n\u001b[0m\u001b[0;32m      4\u001b[0m \u001b[1;32mprint\u001b[0m \u001b[0mvar\u001b[0m\u001b[1;33m\u001b[0m\u001b[0m\n",
      "\u001b[1;31mAttributeError\u001b[0m: 'list' object has no attribute 'clear'"
     ]
    }
   ],
   "source": [
    "var = [1,4,5]\n",
    "print var\n",
    "var.clear()\n",
    "print var"
   ]
  },
  {
   "cell_type": "code",
   "execution_count": 16,
   "metadata": {},
   "outputs": [
    {
     "name": "stdout",
     "output_type": "stream",
     "text": [
      "['__add__', '__class__', '__contains__', '__delattr__', '__delitem__', '__delslice__', '__doc__', '__eq__', '__format__', '__ge__', '__getattribute__', '__getitem__', '__getslice__', '__gt__', '__hash__', '__iadd__', '__imul__', '__init__', '__iter__', '__le__', '__len__', '__lt__', '__mul__', '__ne__', '__new__', '__reduce__', '__reduce_ex__', '__repr__', '__reversed__', '__rmul__', '__setattr__', '__setitem__', '__setslice__', '__sizeof__', '__str__', '__subclasshook__', 'append', 'count', 'extend', 'index', 'insert', 'pop', 'remove', 'reverse', 'sort']\n"
     ]
    }
   ],
   "source": [
    "print dir(list)"
   ]
  },
  {
   "cell_type": "code",
   "execution_count": 17,
   "metadata": {},
   "outputs": [
    {
     "name": "stdout",
     "output_type": "stream",
     "text": [
      "[1, 5, 2]\n",
      "[1, 5, 2, 0, 4, 2]\n"
     ]
    }
   ],
   "source": [
    "a = [1,5,2]\n",
    "b = [0,4,2]\n",
    "print a\n",
    "a.extend(b)\n",
    "print a"
   ]
  },
  {
   "cell_type": "code",
   "execution_count": 18,
   "metadata": {},
   "outputs": [
    {
     "name": "stdout",
     "output_type": "stream",
     "text": [
      "[1, 4, 5]\n",
      "1\n"
     ]
    }
   ],
   "source": [
    "var = [1,4,5]\n",
    "print var\n",
    "print var.index(4)"
   ]
  },
  {
   "cell_type": "code",
   "execution_count": 19,
   "metadata": {},
   "outputs": [
    {
     "name": "stdout",
     "output_type": "stream",
     "text": [
      "[1, 4, 5]\n",
      "5\n",
      "[1, 4]\n",
      "4\n",
      "[1]\n"
     ]
    }
   ],
   "source": [
    "var = [1,4,5]\n",
    "print var\n",
    "print var.pop()\n",
    "print var\n",
    "print var.pop()\n",
    "print var"
   ]
  },
  {
   "cell_type": "code",
   "execution_count": 20,
   "metadata": {},
   "outputs": [
    {
     "name": "stdout",
     "output_type": "stream",
     "text": [
      "[1, 4, 5]\n",
      "[1, 4, 100, 5]\n"
     ]
    }
   ],
   "source": [
    "var = [1,4,5]\n",
    "print var\n",
    "var.insert(2,100)\n",
    "print var"
   ]
  },
  {
   "cell_type": "code",
   "execution_count": 21,
   "metadata": {},
   "outputs": [
    {
     "name": "stdout",
     "output_type": "stream",
     "text": [
      "[1, 4, 5]\n",
      "[1, 5]\n",
      "[1]\n"
     ]
    }
   ],
   "source": [
    "var = [1,4,5]\n",
    "print var\n",
    "var.remove(4)\n",
    "print var\n",
    "var.remove(5)\n",
    "print var"
   ]
  },
  {
   "cell_type": "code",
   "execution_count": 22,
   "metadata": {},
   "outputs": [
    {
     "name": "stdout",
     "output_type": "stream",
     "text": [
      "[1, 4, 5]\n",
      "[5, 4, 1]\n"
     ]
    }
   ],
   "source": [
    "var = [1,4,5]\n",
    "print var\n",
    "var.reverse()\n",
    "print var"
   ]
  },
  {
   "cell_type": "code",
   "execution_count": 23,
   "metadata": {},
   "outputs": [
    {
     "name": "stdout",
     "output_type": "stream",
     "text": [
      "[1, 0, 4, 9, 5]\n",
      "[0, 1, 4, 5, 9]\n"
     ]
    }
   ],
   "source": [
    "var = [1,0,4,9,5]\n",
    "print var\n",
    "var.sort()\n",
    "print var"
   ]
  },
  {
   "cell_type": "code",
   "execution_count": 24,
   "metadata": {},
   "outputs": [
    {
     "name": "stdout",
     "output_type": "stream",
     "text": [
      "[1, 4, 5, 9, 2]\n",
      "9\n",
      "[1, 4, 5, 2]\n"
     ]
    }
   ],
   "source": [
    "var = [1,4,5,9,2]\n",
    "print var\n",
    "print var.pop(3)\n",
    "print var"
   ]
  },
  {
   "cell_type": "code",
   "execution_count": null,
   "metadata": {},
   "outputs": [],
   "source": []
  },
  {
   "cell_type": "code",
   "execution_count": null,
   "metadata": {},
   "outputs": [],
   "source": []
  }
 ],
 "metadata": {
  "kernelspec": {
   "display_name": "Python 2",
   "language": "python",
   "name": "python2"
  },
  "language_info": {
   "codemirror_mode": {
    "name": "ipython",
    "version": 2
   },
   "file_extension": ".py",
   "mimetype": "text/x-python",
   "name": "python",
   "nbconvert_exporter": "python",
   "pygments_lexer": "ipython2",
   "version": "2.7.16"
  }
 },
 "nbformat": 4,
 "nbformat_minor": 2
}
